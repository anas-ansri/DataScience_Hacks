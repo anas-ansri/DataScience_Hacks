{
 "cells": [
  {
   "cell_type": "code",
   "execution_count": 1,
   "id": "d443a9b6",
   "metadata": {
    "_cell_guid": "b1076dfc-b9ad-4769-8c92-a6c4dae69d19",
    "_uuid": "8f2839f25d086af736a60e9eeb907d3b93b6e0e5",
    "execution": {
     "iopub.execute_input": "2022-03-02T06:19:30.682203Z",
     "iopub.status.busy": "2022-03-02T06:19:30.681015Z",
     "iopub.status.idle": "2022-03-02T06:19:30.702697Z",
     "shell.execute_reply": "2022-03-02T06:19:30.701950Z",
     "shell.execute_reply.started": "2022-03-01T19:23:06.197508Z"
    },
    "papermill": {
     "duration": 0.109715,
     "end_time": "2022-03-02T06:19:30.702897",
     "exception": false,
     "start_time": "2022-03-02T06:19:30.593182",
     "status": "completed"
    },
    "tags": []
   },
   "outputs": [
    {
     "name": "stdout",
     "output_type": "stream",
     "text": [
      "/kaggle/input/house-prediction-dataset/Bengaluru_House_Data.csv\n"
     ]
    }
   ],
   "source": [
    "# This Python 3 environment comes with many helpful analytics libraries installed\n",
    "# It is defined by the kaggle/python Docker image: https://github.com/kaggle/docker-python\n",
    "# For example, here's several helpful packages to load\n",
    "\n",
    "import numpy as np # linear algebra\n",
    "import pandas as pd # data processing, CSV file I/O (e.g. pd.read_csv)\n",
    "\n",
    "# Input data files are available in the read-only \"../input/\" directory\n",
    "# For example, running this (by clicking run or pressing Shift+Enter) will list all files under the input directory\n",
    "\n",
    "import os\n",
    "for dirname, _, filenames in os.walk('/kaggle/input'):\n",
    "    for filename in filenames:\n",
    "        print(os.path.join(dirname, filename))\n",
    "\n",
    "# You can write up to 20GB to the current directory (/kaggle/working/) that gets preserved as output when you create a version using \"Save & Run All\" \n",
    "# You can also write temporary files to /kaggle/temp/, but they won't be saved outside of the current session"
   ]
  },
  {
   "cell_type": "markdown",
   "id": "54cc09af",
   "metadata": {
    "papermill": {
     "duration": 0.084327,
     "end_time": "2022-03-02T06:19:30.873219",
     "exception": false,
     "start_time": "2022-03-02T06:19:30.788892",
     "status": "completed"
    },
    "tags": []
   },
   "source": [
    "**Importing useful library**"
   ]
  },
  {
   "cell_type": "code",
   "execution_count": 2,
   "id": "a0e532fe",
   "metadata": {
    "execution": {
     "iopub.execute_input": "2022-03-02T06:19:31.045914Z",
     "iopub.status.busy": "2022-03-02T06:19:31.045092Z",
     "iopub.status.idle": "2022-03-02T06:19:31.049242Z",
     "shell.execute_reply": "2022-03-02T06:19:31.048685Z",
     "shell.execute_reply.started": "2022-03-02T04:42:17.183075Z"
    },
    "papermill": {
     "duration": 0.092019,
     "end_time": "2022-03-02T06:19:31.049419",
     "exception": false,
     "start_time": "2022-03-02T06:19:30.957400",
     "status": "completed"
    },
    "tags": []
   },
   "outputs": [],
   "source": [
    "import numpy as np\n",
    "import pandas as pd"
   ]
  },
  {
   "cell_type": "markdown",
   "id": "1f428f60",
   "metadata": {
    "papermill": {
     "duration": 0.082503,
     "end_time": "2022-03-02T06:19:31.214588",
     "exception": false,
     "start_time": "2022-03-02T06:19:31.132085",
     "status": "completed"
    },
    "tags": []
   },
   "source": [
    "**Importing the data in our file**"
   ]
  },
  {
   "cell_type": "code",
   "execution_count": 3,
   "id": "707a97ac",
   "metadata": {
    "execution": {
     "iopub.execute_input": "2022-03-02T06:19:31.383191Z",
     "iopub.status.busy": "2022-03-02T06:19:31.382540Z",
     "iopub.status.idle": "2022-03-02T06:19:31.433031Z",
     "shell.execute_reply": "2022-03-02T06:19:31.433678Z",
     "shell.execute_reply.started": "2022-03-02T04:42:42.153671Z"
    },
    "papermill": {
     "duration": 0.136928,
     "end_time": "2022-03-02T06:19:31.433908",
     "exception": false,
     "start_time": "2022-03-02T06:19:31.296980",
     "status": "completed"
    },
    "tags": []
   },
   "outputs": [],
   "source": [
    "data= pd.read_csv('../input/house-prediction-dataset/Bengaluru_House_Data.csv')"
   ]
  },
  {
   "cell_type": "code",
   "execution_count": 4,
   "id": "ec9a1771",
   "metadata": {
    "execution": {
     "iopub.execute_input": "2022-03-02T06:19:31.603332Z",
     "iopub.status.busy": "2022-03-02T06:19:31.602705Z",
     "iopub.status.idle": "2022-03-02T06:19:31.624560Z",
     "shell.execute_reply": "2022-03-02T06:19:31.625081Z",
     "shell.execute_reply.started": "2022-03-02T04:42:45.869154Z"
    },
    "papermill": {
     "duration": 0.108687,
     "end_time": "2022-03-02T06:19:31.625276",
     "exception": false,
     "start_time": "2022-03-02T06:19:31.516589",
     "status": "completed"
    },
    "tags": []
   },
   "outputs": [
    {
     "data": {
      "text/html": [
       "<div>\n",
       "<style scoped>\n",
       "    .dataframe tbody tr th:only-of-type {\n",
       "        vertical-align: middle;\n",
       "    }\n",
       "\n",
       "    .dataframe tbody tr th {\n",
       "        vertical-align: top;\n",
       "    }\n",
       "\n",
       "    .dataframe thead th {\n",
       "        text-align: right;\n",
       "    }\n",
       "</style>\n",
       "<table border=\"1\" class=\"dataframe\">\n",
       "  <thead>\n",
       "    <tr style=\"text-align: right;\">\n",
       "      <th></th>\n",
       "      <th>area_type</th>\n",
       "      <th>availability</th>\n",
       "      <th>location</th>\n",
       "      <th>size</th>\n",
       "      <th>society</th>\n",
       "      <th>total_sqft</th>\n",
       "      <th>bath</th>\n",
       "      <th>balcony</th>\n",
       "      <th>price</th>\n",
       "    </tr>\n",
       "  </thead>\n",
       "  <tbody>\n",
       "    <tr>\n",
       "      <th>0</th>\n",
       "      <td>Super built-up  Area</td>\n",
       "      <td>19-Dec</td>\n",
       "      <td>Electronic City Phase II</td>\n",
       "      <td>2 BHK</td>\n",
       "      <td>Coomee</td>\n",
       "      <td>1056</td>\n",
       "      <td>2.0</td>\n",
       "      <td>1.0</td>\n",
       "      <td>39.07</td>\n",
       "    </tr>\n",
       "    <tr>\n",
       "      <th>1</th>\n",
       "      <td>Plot  Area</td>\n",
       "      <td>Ready To Move</td>\n",
       "      <td>Chikka Tirupathi</td>\n",
       "      <td>4 Bedroom</td>\n",
       "      <td>Theanmp</td>\n",
       "      <td>2600</td>\n",
       "      <td>5.0</td>\n",
       "      <td>3.0</td>\n",
       "      <td>120.00</td>\n",
       "    </tr>\n",
       "  </tbody>\n",
       "</table>\n",
       "</div>"
      ],
      "text/plain": [
       "              area_type   availability                  location       size  \\\n",
       "0  Super built-up  Area         19-Dec  Electronic City Phase II      2 BHK   \n",
       "1            Plot  Area  Ready To Move          Chikka Tirupathi  4 Bedroom   \n",
       "\n",
       "   society total_sqft  bath  balcony   price  \n",
       "0  Coomee        1056   2.0      1.0   39.07  \n",
       "1  Theanmp       2600   5.0      3.0  120.00  "
      ]
     },
     "execution_count": 4,
     "metadata": {},
     "output_type": "execute_result"
    }
   ],
   "source": [
    "data.head(2)"
   ]
  },
  {
   "cell_type": "code",
   "execution_count": 5,
   "id": "5b111ffd",
   "metadata": {
    "execution": {
     "iopub.execute_input": "2022-03-02T06:19:31.794625Z",
     "iopub.status.busy": "2022-03-02T06:19:31.793985Z",
     "iopub.status.idle": "2022-03-02T06:19:31.798660Z",
     "shell.execute_reply": "2022-03-02T06:19:31.799244Z",
     "shell.execute_reply.started": "2022-03-02T04:42:46.748641Z"
    },
    "papermill": {
     "duration": 0.091654,
     "end_time": "2022-03-02T06:19:31.799437",
     "exception": false,
     "start_time": "2022-03-02T06:19:31.707783",
     "status": "completed"
    },
    "tags": []
   },
   "outputs": [
    {
     "data": {
      "text/plain": [
       "(13320, 9)"
      ]
     },
     "execution_count": 5,
     "metadata": {},
     "output_type": "execute_result"
    }
   ],
   "source": [
    "data.shape"
   ]
  },
  {
   "cell_type": "code",
   "execution_count": 6,
   "id": "0e1ede5a",
   "metadata": {
    "execution": {
     "iopub.execute_input": "2022-03-02T06:19:31.972546Z",
     "iopub.status.busy": "2022-03-02T06:19:31.971814Z",
     "iopub.status.idle": "2022-03-02T06:19:32.002805Z",
     "shell.execute_reply": "2022-03-02T06:19:32.003329Z",
     "shell.execute_reply.started": "2022-03-02T04:42:47.588803Z"
    },
    "papermill": {
     "duration": 0.119329,
     "end_time": "2022-03-02T06:19:32.003540",
     "exception": false,
     "start_time": "2022-03-02T06:19:31.884211",
     "status": "completed"
    },
    "tags": []
   },
   "outputs": [
    {
     "name": "stdout",
     "output_type": "stream",
     "text": [
      "<class 'pandas.core.frame.DataFrame'>\n",
      "RangeIndex: 13320 entries, 0 to 13319\n",
      "Data columns (total 9 columns):\n",
      " #   Column        Non-Null Count  Dtype  \n",
      "---  ------        --------------  -----  \n",
      " 0   area_type     13320 non-null  object \n",
      " 1   availability  13320 non-null  object \n",
      " 2   location      13319 non-null  object \n",
      " 3   size          13304 non-null  object \n",
      " 4   society       7818 non-null   object \n",
      " 5   total_sqft    13320 non-null  object \n",
      " 6   bath          13247 non-null  float64\n",
      " 7   balcony       12711 non-null  float64\n",
      " 8   price         13320 non-null  float64\n",
      "dtypes: float64(3), object(6)\n",
      "memory usage: 936.7+ KB\n"
     ]
    }
   ],
   "source": [
    "data.info()"
   ]
  },
  {
   "cell_type": "markdown",
   "id": "68cf3088",
   "metadata": {
    "papermill": {
     "duration": 0.084369,
     "end_time": "2022-03-02T06:19:32.174710",
     "exception": false,
     "start_time": "2022-03-02T06:19:32.090341",
     "status": "completed"
    },
    "tags": []
   },
   "source": [
    "**For getting the information of total value count in different column so that we will get the knowledge how many different values are present**"
   ]
  },
  {
   "cell_type": "code",
   "execution_count": 7,
   "id": "4b570572",
   "metadata": {
    "execution": {
     "iopub.execute_input": "2022-03-02T06:19:32.348447Z",
     "iopub.status.busy": "2022-03-02T06:19:32.347415Z",
     "iopub.status.idle": "2022-03-02T06:19:32.377255Z",
     "shell.execute_reply": "2022-03-02T06:19:32.377782Z",
     "shell.execute_reply.started": "2022-03-02T04:42:48.318532Z"
    },
    "papermill": {
     "duration": 0.117632,
     "end_time": "2022-03-02T06:19:32.377987",
     "exception": false,
     "start_time": "2022-03-02T06:19:32.260355",
     "status": "completed"
    },
    "tags": []
   },
   "outputs": [
    {
     "name": "stdout",
     "output_type": "stream",
     "text": [
      "Super built-up  Area    8790\n",
      "Built-up  Area          2418\n",
      "Plot  Area              2025\n",
      "Carpet  Area              87\n",
      "Name: area_type, dtype: int64\n",
      "Ready To Move    10581\n",
      "18-Dec             307\n",
      "18-May             295\n",
      "18-Apr             271\n",
      "18-Aug             200\n",
      "Name: availability, dtype: int64\n",
      "Whitefield         540\n",
      "Sarjapur  Road     399\n",
      "Electronic City    302\n",
      "Kanakpura Road     273\n",
      "Thanisandra        234\n",
      "Name: location, dtype: int64\n",
      "2 BHK        5199\n",
      "3 BHK        4310\n",
      "4 Bedroom     826\n",
      "4 BHK         591\n",
      "3 Bedroom     547\n",
      "Name: size, dtype: int64\n",
      "GrrvaGr    80\n",
      "PrarePa    76\n",
      "Sryalan    59\n",
      "Prtates    59\n",
      "GMown E    56\n",
      "Name: society, dtype: int64\n",
      "1200    843\n",
      "1100    221\n",
      "1500    205\n",
      "2400    196\n",
      "600     180\n",
      "Name: total_sqft, dtype: int64\n",
      "2.0    6908\n",
      "3.0    3286\n",
      "4.0    1226\n",
      "1.0     788\n",
      "5.0     524\n",
      "Name: bath, dtype: int64\n",
      "2.0    5113\n",
      "1.0    4897\n",
      "3.0    1672\n",
      "0.0    1029\n",
      "Name: balcony, dtype: int64\n",
      "75.0    310\n",
      "65.0    302\n",
      "55.0    275\n",
      "60.0    270\n",
      "45.0    240\n",
      "Name: price, dtype: int64\n"
     ]
    }
   ],
   "source": [
    "for column in data.columns:\n",
    "    print(data[column].value_counts().head())"
   ]
  },
  {
   "cell_type": "markdown",
   "id": "ddcbb876",
   "metadata": {
    "papermill": {
     "duration": 0.084224,
     "end_time": "2022-03-02T06:19:32.545716",
     "exception": false,
     "start_time": "2022-03-02T06:19:32.461492",
     "status": "completed"
    },
    "tags": []
   },
   "source": [
    "**Getting the info of null values in the dataset so that we will take care of these before applying any algo**"
   ]
  },
  {
   "cell_type": "code",
   "execution_count": 8,
   "id": "9e00a8b1",
   "metadata": {
    "execution": {
     "iopub.execute_input": "2022-03-02T06:19:32.717797Z",
     "iopub.status.busy": "2022-03-02T06:19:32.717100Z",
     "iopub.status.idle": "2022-03-02T06:19:32.732343Z",
     "shell.execute_reply": "2022-03-02T06:19:32.732962Z",
     "shell.execute_reply.started": "2022-03-02T04:42:49.248573Z"
    },
    "papermill": {
     "duration": 0.104037,
     "end_time": "2022-03-02T06:19:32.733155",
     "exception": false,
     "start_time": "2022-03-02T06:19:32.629118",
     "status": "completed"
    },
    "tags": []
   },
   "outputs": [
    {
     "data": {
      "text/plain": [
       "area_type          0\n",
       "availability       0\n",
       "location           1\n",
       "size              16\n",
       "society         5502\n",
       "total_sqft         0\n",
       "bath              73\n",
       "balcony          609\n",
       "price              0\n",
       "dtype: int64"
      ]
     },
     "execution_count": 8,
     "metadata": {},
     "output_type": "execute_result"
    }
   ],
   "source": [
    "data.isnull().sum()"
   ]
  },
  {
   "cell_type": "markdown",
   "id": "29a4dda8",
   "metadata": {
    "papermill": {
     "duration": 0.08401,
     "end_time": "2022-03-02T06:19:32.901416",
     "exception": false,
     "start_time": "2022-03-02T06:19:32.817406",
     "status": "completed"
    },
    "tags": []
   },
   "source": [
    "**Dropping the column which will not create any  significant impact on our performance**"
   ]
  },
  {
   "cell_type": "code",
   "execution_count": 9,
   "id": "0bc86e8d",
   "metadata": {
    "execution": {
     "iopub.execute_input": "2022-03-02T06:19:33.074601Z",
     "iopub.status.busy": "2022-03-02T06:19:33.073912Z",
     "iopub.status.idle": "2022-03-02T06:19:33.081724Z",
     "shell.execute_reply": "2022-03-02T06:19:33.082231Z",
     "shell.execute_reply.started": "2022-03-02T04:42:50.113238Z"
    },
    "papermill": {
     "duration": 0.096491,
     "end_time": "2022-03-02T06:19:33.082437",
     "exception": false,
     "start_time": "2022-03-02T06:19:32.985946",
     "status": "completed"
    },
    "tags": []
   },
   "outputs": [],
   "source": [
    "data.drop(columns=['area_type','availability','society','balcony'],inplace=True)"
   ]
  },
  {
   "cell_type": "code",
   "execution_count": 10,
   "id": "0352bd3e",
   "metadata": {
    "execution": {
     "iopub.execute_input": "2022-03-02T06:19:33.259241Z",
     "iopub.status.busy": "2022-03-02T06:19:33.258584Z",
     "iopub.status.idle": "2022-03-02T06:19:33.280655Z",
     "shell.execute_reply": "2022-03-02T06:19:33.280007Z",
     "shell.execute_reply.started": "2022-03-02T04:42:50.963471Z"
    },
    "papermill": {
     "duration": 0.113332,
     "end_time": "2022-03-02T06:19:33.280833",
     "exception": false,
     "start_time": "2022-03-02T06:19:33.167501",
     "status": "completed"
    },
    "tags": []
   },
   "outputs": [
    {
     "data": {
      "text/html": [
       "<div>\n",
       "<style scoped>\n",
       "    .dataframe tbody tr th:only-of-type {\n",
       "        vertical-align: middle;\n",
       "    }\n",
       "\n",
       "    .dataframe tbody tr th {\n",
       "        vertical-align: top;\n",
       "    }\n",
       "\n",
       "    .dataframe thead th {\n",
       "        text-align: right;\n",
       "    }\n",
       "</style>\n",
       "<table border=\"1\" class=\"dataframe\">\n",
       "  <thead>\n",
       "    <tr style=\"text-align: right;\">\n",
       "      <th></th>\n",
       "      <th>bath</th>\n",
       "      <th>price</th>\n",
       "    </tr>\n",
       "  </thead>\n",
       "  <tbody>\n",
       "    <tr>\n",
       "      <th>count</th>\n",
       "      <td>13247.000000</td>\n",
       "      <td>13320.000000</td>\n",
       "    </tr>\n",
       "    <tr>\n",
       "      <th>mean</th>\n",
       "      <td>2.692610</td>\n",
       "      <td>112.565627</td>\n",
       "    </tr>\n",
       "    <tr>\n",
       "      <th>std</th>\n",
       "      <td>1.341458</td>\n",
       "      <td>148.971674</td>\n",
       "    </tr>\n",
       "    <tr>\n",
       "      <th>min</th>\n",
       "      <td>1.000000</td>\n",
       "      <td>8.000000</td>\n",
       "    </tr>\n",
       "    <tr>\n",
       "      <th>25%</th>\n",
       "      <td>2.000000</td>\n",
       "      <td>50.000000</td>\n",
       "    </tr>\n",
       "    <tr>\n",
       "      <th>50%</th>\n",
       "      <td>2.000000</td>\n",
       "      <td>72.000000</td>\n",
       "    </tr>\n",
       "    <tr>\n",
       "      <th>75%</th>\n",
       "      <td>3.000000</td>\n",
       "      <td>120.000000</td>\n",
       "    </tr>\n",
       "    <tr>\n",
       "      <th>max</th>\n",
       "      <td>40.000000</td>\n",
       "      <td>3600.000000</td>\n",
       "    </tr>\n",
       "  </tbody>\n",
       "</table>\n",
       "</div>"
      ],
      "text/plain": [
       "               bath         price\n",
       "count  13247.000000  13320.000000\n",
       "mean       2.692610    112.565627\n",
       "std        1.341458    148.971674\n",
       "min        1.000000      8.000000\n",
       "25%        2.000000     50.000000\n",
       "50%        2.000000     72.000000\n",
       "75%        3.000000    120.000000\n",
       "max       40.000000   3600.000000"
      ]
     },
     "execution_count": 10,
     "metadata": {},
     "output_type": "execute_result"
    }
   ],
   "source": [
    "data.describe()"
   ]
  },
  {
   "cell_type": "code",
   "execution_count": 11,
   "id": "f879274a",
   "metadata": {
    "execution": {
     "iopub.execute_input": "2022-03-02T06:19:33.463772Z",
     "iopub.status.busy": "2022-03-02T06:19:33.462749Z",
     "iopub.status.idle": "2022-03-02T06:19:33.479402Z",
     "shell.execute_reply": "2022-03-02T06:19:33.479940Z",
     "shell.execute_reply.started": "2022-03-02T04:42:51.838412Z"
    },
    "papermill": {
     "duration": 0.108049,
     "end_time": "2022-03-02T06:19:33.480132",
     "exception": false,
     "start_time": "2022-03-02T06:19:33.372083",
     "status": "completed"
    },
    "tags": []
   },
   "outputs": [
    {
     "name": "stdout",
     "output_type": "stream",
     "text": [
      "<class 'pandas.core.frame.DataFrame'>\n",
      "RangeIndex: 13320 entries, 0 to 13319\n",
      "Data columns (total 5 columns):\n",
      " #   Column      Non-Null Count  Dtype  \n",
      "---  ------      --------------  -----  \n",
      " 0   location    13319 non-null  object \n",
      " 1   size        13304 non-null  object \n",
      " 2   total_sqft  13320 non-null  object \n",
      " 3   bath        13247 non-null  float64\n",
      " 4   price       13320 non-null  float64\n",
      "dtypes: float64(2), object(3)\n",
      "memory usage: 520.4+ KB\n"
     ]
    }
   ],
   "source": [
    "data.info()"
   ]
  },
  {
   "cell_type": "markdown",
   "id": "7172c5ef",
   "metadata": {
    "papermill": {
     "duration": 0.08474,
     "end_time": "2022-03-02T06:19:33.650079",
     "exception": false,
     "start_time": "2022-03-02T06:19:33.565339",
     "status": "completed"
    },
    "tags": []
   },
   "source": [
    "**Calculate that how many different values in location column bcoz we need to encode this column as ML wont able to work on categorical column so we will encode this column but firstly lets see that how  many different values in this column**"
   ]
  },
  {
   "cell_type": "code",
   "execution_count": 12,
   "id": "847ea5f6",
   "metadata": {
    "execution": {
     "iopub.execute_input": "2022-03-02T06:19:33.829160Z",
     "iopub.status.busy": "2022-03-02T06:19:33.828136Z",
     "iopub.status.idle": "2022-03-02T06:19:33.835159Z",
     "shell.execute_reply": "2022-03-02T06:19:33.835778Z",
     "shell.execute_reply.started": "2022-03-02T04:42:52.728374Z"
    },
    "papermill": {
     "duration": 0.10043,
     "end_time": "2022-03-02T06:19:33.835971",
     "exception": false,
     "start_time": "2022-03-02T06:19:33.735541",
     "status": "completed"
    },
    "tags": []
   },
   "outputs": [
    {
     "data": {
      "text/plain": [
       "Whitefield                        540\n",
       "Sarjapur  Road                    399\n",
       "Electronic City                   302\n",
       "Kanakpura Road                    273\n",
       "Thanisandra                       234\n",
       "                                 ... \n",
       "Bapuji Layout                       1\n",
       "1st Stage Radha Krishna Layout      1\n",
       "BEML Layout 5th stage               1\n",
       "singapura paradise                  1\n",
       "Abshot Layout                       1\n",
       "Name: location, Length: 1305, dtype: int64"
      ]
     },
     "execution_count": 12,
     "metadata": {},
     "output_type": "execute_result"
    }
   ],
   "source": [
    "data['location'].value_counts()"
   ]
  },
  {
   "cell_type": "markdown",
   "id": "44ece4ac",
   "metadata": {
    "papermill": {
     "duration": 0.084949,
     "end_time": "2022-03-02T06:19:34.006770",
     "exception": false,
     "start_time": "2022-03-02T06:19:33.921821",
     "status": "completed"
    },
    "tags": []
   },
   "source": [
    "**As WhiteFeild have max occurance so we will fill all the Null values in location column by Whitefeild**"
   ]
  },
  {
   "cell_type": "code",
   "execution_count": 13,
   "id": "8d13ef1d",
   "metadata": {
    "execution": {
     "iopub.execute_input": "2022-03-02T06:19:34.186524Z",
     "iopub.status.busy": "2022-03-02T06:19:34.185481Z",
     "iopub.status.idle": "2022-03-02T06:19:34.192334Z",
     "shell.execute_reply": "2022-03-02T06:19:34.192961Z",
     "shell.execute_reply.started": "2022-03-02T04:42:53.674085Z"
    },
    "papermill": {
     "duration": 0.097856,
     "end_time": "2022-03-02T06:19:34.193149",
     "exception": false,
     "start_time": "2022-03-02T06:19:34.095293",
     "status": "completed"
    },
    "tags": []
   },
   "outputs": [],
   "source": [
    "data['location']=data['location'].fillna('Whitefeild')"
   ]
  },
  {
   "cell_type": "code",
   "execution_count": 14,
   "id": "7fe74d91",
   "metadata": {
    "execution": {
     "iopub.execute_input": "2022-03-02T06:19:34.370566Z",
     "iopub.status.busy": "2022-03-02T06:19:34.369516Z",
     "iopub.status.idle": "2022-03-02T06:19:34.379011Z",
     "shell.execute_reply": "2022-03-02T06:19:34.379640Z",
     "shell.execute_reply.started": "2022-03-02T04:42:56.398819Z"
    },
    "papermill": {
     "duration": 0.099634,
     "end_time": "2022-03-02T06:19:34.379846",
     "exception": false,
     "start_time": "2022-03-02T06:19:34.280212",
     "status": "completed"
    },
    "tags": []
   },
   "outputs": [
    {
     "data": {
      "text/plain": [
       "2 BHK        5199\n",
       "3 BHK        4310\n",
       "4 Bedroom     826\n",
       "4 BHK         591\n",
       "3 Bedroom     547\n",
       "Name: size, dtype: int64"
      ]
     },
     "execution_count": 14,
     "metadata": {},
     "output_type": "execute_result"
    }
   ],
   "source": [
    "data['size'].value_counts().head()"
   ]
  },
  {
   "cell_type": "markdown",
   "id": "568e3c6e",
   "metadata": {
    "papermill": {
     "duration": 0.086091,
     "end_time": "2022-03-02T06:19:34.552280",
     "exception": false,
     "start_time": "2022-03-02T06:19:34.466189",
     "status": "completed"
    },
    "tags": []
   },
   "source": [
    "**As maximum house is 2Bhk so fill the nan value by 2BHK**"
   ]
  },
  {
   "cell_type": "code",
   "execution_count": 15,
   "id": "96f4fa84",
   "metadata": {
    "execution": {
     "iopub.execute_input": "2022-03-02T06:19:34.728776Z",
     "iopub.status.busy": "2022-03-02T06:19:34.727715Z",
     "iopub.status.idle": "2022-03-02T06:19:34.734615Z",
     "shell.execute_reply": "2022-03-02T06:19:34.735167Z",
     "shell.execute_reply.started": "2022-03-02T04:42:57.198402Z"
    },
    "papermill": {
     "duration": 0.097102,
     "end_time": "2022-03-02T06:19:34.735384",
     "exception": false,
     "start_time": "2022-03-02T06:19:34.638282",
     "status": "completed"
    },
    "tags": []
   },
   "outputs": [],
   "source": [
    "data['size']=data['size'].fillna('2 BHK')"
   ]
  },
  {
   "cell_type": "markdown",
   "id": "03cd7d3c",
   "metadata": {
    "papermill": {
     "duration": 0.087675,
     "end_time": "2022-03-02T06:19:34.909210",
     "exception": false,
     "start_time": "2022-03-02T06:19:34.821535",
     "status": "completed"
    },
    "tags": []
   },
   "source": [
    "**Filling the bath NaN value with median of that column**"
   ]
  },
  {
   "cell_type": "code",
   "execution_count": 16,
   "id": "797d4c64",
   "metadata": {
    "execution": {
     "iopub.execute_input": "2022-03-02T06:19:35.086606Z",
     "iopub.status.busy": "2022-03-02T06:19:35.085554Z",
     "iopub.status.idle": "2022-03-02T06:19:35.091127Z",
     "shell.execute_reply": "2022-03-02T06:19:35.091723Z",
     "shell.execute_reply.started": "2022-03-02T04:42:58.043752Z"
    },
    "papermill": {
     "duration": 0.096344,
     "end_time": "2022-03-02T06:19:35.091920",
     "exception": false,
     "start_time": "2022-03-02T06:19:34.995576",
     "status": "completed"
    },
    "tags": []
   },
   "outputs": [],
   "source": [
    "data['bath']=data['bath'].fillna(data['bath'].median())"
   ]
  },
  {
   "cell_type": "code",
   "execution_count": 17,
   "id": "491ee2ec",
   "metadata": {
    "execution": {
     "iopub.execute_input": "2022-03-02T06:19:35.268775Z",
     "iopub.status.busy": "2022-03-02T06:19:35.267771Z",
     "iopub.status.idle": "2022-03-02T06:19:35.284490Z",
     "shell.execute_reply": "2022-03-02T06:19:35.285283Z",
     "shell.execute_reply.started": "2022-03-02T04:42:58.979170Z"
    },
    "papermill": {
     "duration": 0.107747,
     "end_time": "2022-03-02T06:19:35.285553",
     "exception": false,
     "start_time": "2022-03-02T06:19:35.177806",
     "status": "completed"
    },
    "tags": []
   },
   "outputs": [
    {
     "name": "stdout",
     "output_type": "stream",
     "text": [
      "<class 'pandas.core.frame.DataFrame'>\n",
      "RangeIndex: 13320 entries, 0 to 13319\n",
      "Data columns (total 5 columns):\n",
      " #   Column      Non-Null Count  Dtype  \n",
      "---  ------      --------------  -----  \n",
      " 0   location    13320 non-null  object \n",
      " 1   size        13320 non-null  object \n",
      " 2   total_sqft  13320 non-null  object \n",
      " 3   bath        13320 non-null  float64\n",
      " 4   price       13320 non-null  float64\n",
      "dtypes: float64(2), object(3)\n",
      "memory usage: 520.4+ KB\n"
     ]
    }
   ],
   "source": [
    "data.info()"
   ]
  },
  {
   "cell_type": "markdown",
   "id": "f4292d9d",
   "metadata": {
    "papermill": {
     "duration": 0.088087,
     "end_time": "2022-03-02T06:19:35.462604",
     "exception": false,
     "start_time": "2022-03-02T06:19:35.374517",
     "status": "completed"
    },
    "tags": []
   },
   "source": [
    "**Spliting the BHK column as only numerical part will help in the prediction BHK is same and categorical so we need to remove the BHK part**"
   ]
  },
  {
   "cell_type": "code",
   "execution_count": 18,
   "id": "7d3f00cf",
   "metadata": {
    "execution": {
     "iopub.execute_input": "2022-03-02T06:19:35.643953Z",
     "iopub.status.busy": "2022-03-02T06:19:35.643081Z",
     "iopub.status.idle": "2022-03-02T06:19:35.824555Z",
     "shell.execute_reply": "2022-03-02T06:19:35.823703Z",
     "shell.execute_reply.started": "2022-03-02T04:42:59.848588Z"
    },
    "papermill": {
     "duration": 0.272486,
     "end_time": "2022-03-02T06:19:35.824797",
     "exception": false,
     "start_time": "2022-03-02T06:19:35.552311",
     "status": "completed"
    },
    "tags": []
   },
   "outputs": [],
   "source": [
    "data['bhk']=data['size'].str.split().str.get(0).astype(int)"
   ]
  },
  {
   "cell_type": "code",
   "execution_count": 19,
   "id": "c9597048",
   "metadata": {
    "execution": {
     "iopub.execute_input": "2022-03-02T06:19:36.007614Z",
     "iopub.status.busy": "2022-03-02T06:19:36.006929Z",
     "iopub.status.idle": "2022-03-02T06:19:36.018578Z",
     "shell.execute_reply": "2022-03-02T06:19:36.019165Z",
     "shell.execute_reply.started": "2022-03-02T04:43:00.803456Z"
    },
    "papermill": {
     "duration": 0.106055,
     "end_time": "2022-03-02T06:19:36.019359",
     "exception": false,
     "start_time": "2022-03-02T06:19:35.913304",
     "status": "completed"
    },
    "tags": []
   },
   "outputs": [
    {
     "data": {
      "text/html": [
       "<div>\n",
       "<style scoped>\n",
       "    .dataframe tbody tr th:only-of-type {\n",
       "        vertical-align: middle;\n",
       "    }\n",
       "\n",
       "    .dataframe tbody tr th {\n",
       "        vertical-align: top;\n",
       "    }\n",
       "\n",
       "    .dataframe thead th {\n",
       "        text-align: right;\n",
       "    }\n",
       "</style>\n",
       "<table border=\"1\" class=\"dataframe\">\n",
       "  <thead>\n",
       "    <tr style=\"text-align: right;\">\n",
       "      <th></th>\n",
       "      <th>location</th>\n",
       "      <th>size</th>\n",
       "      <th>total_sqft</th>\n",
       "      <th>bath</th>\n",
       "      <th>price</th>\n",
       "      <th>bhk</th>\n",
       "    </tr>\n",
       "  </thead>\n",
       "  <tbody>\n",
       "    <tr>\n",
       "      <th>1718</th>\n",
       "      <td>2Electronic City Phase II</td>\n",
       "      <td>27 BHK</td>\n",
       "      <td>8000</td>\n",
       "      <td>27.0</td>\n",
       "      <td>230.0</td>\n",
       "      <td>27</td>\n",
       "    </tr>\n",
       "    <tr>\n",
       "      <th>4684</th>\n",
       "      <td>Munnekollal</td>\n",
       "      <td>43 Bedroom</td>\n",
       "      <td>2400</td>\n",
       "      <td>40.0</td>\n",
       "      <td>660.0</td>\n",
       "      <td>43</td>\n",
       "    </tr>\n",
       "  </tbody>\n",
       "</table>\n",
       "</div>"
      ],
      "text/plain": [
       "                       location        size total_sqft  bath  price  bhk\n",
       "1718  2Electronic City Phase II      27 BHK       8000  27.0  230.0   27\n",
       "4684                Munnekollal  43 Bedroom       2400  40.0  660.0   43"
      ]
     },
     "execution_count": 19,
     "metadata": {},
     "output_type": "execute_result"
    }
   ],
   "source": [
    "data[data.bhk > 20]"
   ]
  },
  {
   "cell_type": "code",
   "execution_count": 20,
   "id": "344c38bf",
   "metadata": {
    "execution": {
     "iopub.execute_input": "2022-03-02T06:19:36.200633Z",
     "iopub.status.busy": "2022-03-02T06:19:36.199932Z",
     "iopub.status.idle": "2022-03-02T06:19:36.207465Z",
     "shell.execute_reply": "2022-03-02T06:19:36.206932Z",
     "shell.execute_reply.started": "2022-03-02T04:43:01.563806Z"
    },
    "papermill": {
     "duration": 0.09886,
     "end_time": "2022-03-02T06:19:36.207618",
     "exception": false,
     "start_time": "2022-03-02T06:19:36.108758",
     "status": "completed"
    },
    "tags": []
   },
   "outputs": [
    {
     "data": {
      "text/plain": [
       "array(['1056', '2600', '1440', ..., '1133 - 1384', '774', '4689'],\n",
       "      dtype=object)"
      ]
     },
     "execution_count": 20,
     "metadata": {},
     "output_type": "execute_result"
    }
   ],
   "source": [
    "data['total_sqft'].unique()"
   ]
  },
  {
   "cell_type": "markdown",
   "id": "3ff3ba30",
   "metadata": {
    "papermill": {
     "duration": 0.089218,
     "end_time": "2022-03-02T06:19:36.385995",
     "exception": false,
     "start_time": "2022-03-02T06:19:36.296777",
     "status": "completed"
    },
    "tags": []
   },
   "source": [
    "**We can see that some of the area value have ranges so we need to solve this problem so we will take the average of the higher and lower value and fill that into the column**"
   ]
  },
  {
   "cell_type": "code",
   "execution_count": 21,
   "id": "1f70eb3a",
   "metadata": {
    "execution": {
     "iopub.execute_input": "2022-03-02T06:19:36.569998Z",
     "iopub.status.busy": "2022-03-02T06:19:36.569274Z",
     "iopub.status.idle": "2022-03-02T06:19:36.570952Z",
     "shell.execute_reply": "2022-03-02T06:19:36.571518Z",
     "shell.execute_reply.started": "2022-03-02T04:43:02.443845Z"
    },
    "papermill": {
     "duration": 0.097503,
     "end_time": "2022-03-02T06:19:36.571733",
     "exception": false,
     "start_time": "2022-03-02T06:19:36.474230",
     "status": "completed"
    },
    "tags": []
   },
   "outputs": [],
   "source": [
    "def Rangeconverter(x):\n",
    "    \n",
    "    temp= x.split('-')\n",
    "    if len(temp)==2:\n",
    "        return (float(temp[0])+ float(temp[1]))/2\n",
    "    try:\n",
    "        return float(x)\n",
    "    except:\n",
    "        return None"
   ]
  },
  {
   "cell_type": "code",
   "execution_count": 22,
   "id": "01a4b044",
   "metadata": {
    "execution": {
     "iopub.execute_input": "2022-03-02T06:19:36.754745Z",
     "iopub.status.busy": "2022-03-02T06:19:36.753957Z",
     "iopub.status.idle": "2022-03-02T06:19:36.770129Z",
     "shell.execute_reply": "2022-03-02T06:19:36.770704Z",
     "shell.execute_reply.started": "2022-03-02T04:43:03.448887Z"
    },
    "papermill": {
     "duration": 0.110596,
     "end_time": "2022-03-02T06:19:36.770912",
     "exception": false,
     "start_time": "2022-03-02T06:19:36.660316",
     "status": "completed"
    },
    "tags": []
   },
   "outputs": [],
   "source": [
    "data['total_sqft']= data['total_sqft'].apply(Rangeconverter)"
   ]
  },
  {
   "cell_type": "code",
   "execution_count": 23,
   "id": "2361f9ac",
   "metadata": {
    "execution": {
     "iopub.execute_input": "2022-03-02T06:19:36.962090Z",
     "iopub.status.busy": "2022-03-02T06:19:36.961330Z",
     "iopub.status.idle": "2022-03-02T06:19:36.965470Z",
     "shell.execute_reply": "2022-03-02T06:19:36.964955Z",
     "shell.execute_reply.started": "2022-03-02T04:43:04.368896Z"
    },
    "papermill": {
     "duration": 0.10511,
     "end_time": "2022-03-02T06:19:36.965646",
     "exception": false,
     "start_time": "2022-03-02T06:19:36.860536",
     "status": "completed"
    },
    "tags": []
   },
   "outputs": [
    {
     "data": {
      "text/html": [
       "<div>\n",
       "<style scoped>\n",
       "    .dataframe tbody tr th:only-of-type {\n",
       "        vertical-align: middle;\n",
       "    }\n",
       "\n",
       "    .dataframe tbody tr th {\n",
       "        vertical-align: top;\n",
       "    }\n",
       "\n",
       "    .dataframe thead th {\n",
       "        text-align: right;\n",
       "    }\n",
       "</style>\n",
       "<table border=\"1\" class=\"dataframe\">\n",
       "  <thead>\n",
       "    <tr style=\"text-align: right;\">\n",
       "      <th></th>\n",
       "      <th>location</th>\n",
       "      <th>size</th>\n",
       "      <th>total_sqft</th>\n",
       "      <th>bath</th>\n",
       "      <th>price</th>\n",
       "      <th>bhk</th>\n",
       "    </tr>\n",
       "  </thead>\n",
       "  <tbody>\n",
       "    <tr>\n",
       "      <th>0</th>\n",
       "      <td>Electronic City Phase II</td>\n",
       "      <td>2 BHK</td>\n",
       "      <td>1056.0</td>\n",
       "      <td>2.0</td>\n",
       "      <td>39.07</td>\n",
       "      <td>2</td>\n",
       "    </tr>\n",
       "    <tr>\n",
       "      <th>1</th>\n",
       "      <td>Chikka Tirupathi</td>\n",
       "      <td>4 Bedroom</td>\n",
       "      <td>2600.0</td>\n",
       "      <td>5.0</td>\n",
       "      <td>120.00</td>\n",
       "      <td>4</td>\n",
       "    </tr>\n",
       "  </tbody>\n",
       "</table>\n",
       "</div>"
      ],
      "text/plain": [
       "                   location       size  total_sqft  bath   price  bhk\n",
       "0  Electronic City Phase II      2 BHK      1056.0   2.0   39.07    2\n",
       "1          Chikka Tirupathi  4 Bedroom      2600.0   5.0  120.00    4"
      ]
     },
     "execution_count": 23,
     "metadata": {},
     "output_type": "execute_result"
    }
   ],
   "source": [
    "data.head(2)"
   ]
  },
  {
   "cell_type": "markdown",
   "id": "2517bcc1",
   "metadata": {
    "papermill": {
     "duration": 0.088065,
     "end_time": "2022-03-02T06:19:37.143646",
     "exception": false,
     "start_time": "2022-03-02T06:19:37.055581",
     "status": "completed"
    },
    "tags": []
   },
   "source": [
    "**For getting the value of price per square foot so we are making this column maybe this will hwlp in improving the accuracy**"
   ]
  },
  {
   "cell_type": "code",
   "execution_count": 24,
   "id": "2e98e6ca",
   "metadata": {
    "execution": {
     "iopub.execute_input": "2022-03-02T06:19:37.329505Z",
     "iopub.status.busy": "2022-03-02T06:19:37.328788Z",
     "iopub.status.idle": "2022-03-02T06:19:37.331790Z",
     "shell.execute_reply": "2022-03-02T06:19:37.332404Z",
     "shell.execute_reply.started": "2022-03-02T04:43:05.393760Z"
    },
    "papermill": {
     "duration": 0.099685,
     "end_time": "2022-03-02T06:19:37.332603",
     "exception": false,
     "start_time": "2022-03-02T06:19:37.232918",
     "status": "completed"
    },
    "tags": []
   },
   "outputs": [],
   "source": [
    "data['price_per_sqft']= data['price']*100000/ data['total_sqft']"
   ]
  },
  {
   "cell_type": "code",
   "execution_count": 25,
   "id": "990a3c13",
   "metadata": {
    "execution": {
     "iopub.execute_input": "2022-03-02T06:19:37.514390Z",
     "iopub.status.busy": "2022-03-02T06:19:37.513750Z",
     "iopub.status.idle": "2022-03-02T06:19:37.519874Z",
     "shell.execute_reply": "2022-03-02T06:19:37.520486Z",
     "shell.execute_reply.started": "2022-03-02T04:43:06.519027Z"
    },
    "papermill": {
     "duration": 0.097627,
     "end_time": "2022-03-02T06:19:37.520692",
     "exception": false,
     "start_time": "2022-03-02T06:19:37.423065",
     "status": "completed"
    },
    "tags": []
   },
   "outputs": [
    {
     "data": {
      "text/plain": [
       "0    3699.810606\n",
       "1    4615.384615\n",
       "2    4305.555556\n",
       "3    6245.890861\n",
       "4    4250.000000\n",
       "Name: price_per_sqft, dtype: float64"
      ]
     },
     "execution_count": 25,
     "metadata": {},
     "output_type": "execute_result"
    }
   ],
   "source": [
    "data['price_per_sqft'].head()"
   ]
  },
  {
   "cell_type": "code",
   "execution_count": 26,
   "id": "7b561f91",
   "metadata": {
    "execution": {
     "iopub.execute_input": "2022-03-02T06:19:37.702651Z",
     "iopub.status.busy": "2022-03-02T06:19:37.701925Z",
     "iopub.status.idle": "2022-03-02T06:19:37.728593Z",
     "shell.execute_reply": "2022-03-02T06:19:37.729191Z",
     "shell.execute_reply.started": "2022-03-02T04:43:07.409165Z"
    },
    "papermill": {
     "duration": 0.119893,
     "end_time": "2022-03-02T06:19:37.729406",
     "exception": false,
     "start_time": "2022-03-02T06:19:37.609513",
     "status": "completed"
    },
    "tags": []
   },
   "outputs": [
    {
     "data": {
      "text/html": [
       "<div>\n",
       "<style scoped>\n",
       "    .dataframe tbody tr th:only-of-type {\n",
       "        vertical-align: middle;\n",
       "    }\n",
       "\n",
       "    .dataframe tbody tr th {\n",
       "        vertical-align: top;\n",
       "    }\n",
       "\n",
       "    .dataframe thead th {\n",
       "        text-align: right;\n",
       "    }\n",
       "</style>\n",
       "<table border=\"1\" class=\"dataframe\">\n",
       "  <thead>\n",
       "    <tr style=\"text-align: right;\">\n",
       "      <th></th>\n",
       "      <th>total_sqft</th>\n",
       "      <th>bath</th>\n",
       "      <th>price</th>\n",
       "      <th>bhk</th>\n",
       "      <th>price_per_sqft</th>\n",
       "    </tr>\n",
       "  </thead>\n",
       "  <tbody>\n",
       "    <tr>\n",
       "      <th>count</th>\n",
       "      <td>13274.000000</td>\n",
       "      <td>13320.000000</td>\n",
       "      <td>13320.000000</td>\n",
       "      <td>13320.000000</td>\n",
       "      <td>1.327400e+04</td>\n",
       "    </tr>\n",
       "    <tr>\n",
       "      <th>mean</th>\n",
       "      <td>1559.626694</td>\n",
       "      <td>2.688814</td>\n",
       "      <td>112.565627</td>\n",
       "      <td>2.802778</td>\n",
       "      <td>7.907501e+03</td>\n",
       "    </tr>\n",
       "    <tr>\n",
       "      <th>std</th>\n",
       "      <td>1238.405258</td>\n",
       "      <td>1.338754</td>\n",
       "      <td>148.971674</td>\n",
       "      <td>1.294496</td>\n",
       "      <td>1.064296e+05</td>\n",
       "    </tr>\n",
       "    <tr>\n",
       "      <th>min</th>\n",
       "      <td>1.000000</td>\n",
       "      <td>1.000000</td>\n",
       "      <td>8.000000</td>\n",
       "      <td>1.000000</td>\n",
       "      <td>2.678298e+02</td>\n",
       "    </tr>\n",
       "    <tr>\n",
       "      <th>25%</th>\n",
       "      <td>1100.000000</td>\n",
       "      <td>2.000000</td>\n",
       "      <td>50.000000</td>\n",
       "      <td>2.000000</td>\n",
       "      <td>4.266865e+03</td>\n",
       "    </tr>\n",
       "    <tr>\n",
       "      <th>50%</th>\n",
       "      <td>1276.000000</td>\n",
       "      <td>2.000000</td>\n",
       "      <td>72.000000</td>\n",
       "      <td>3.000000</td>\n",
       "      <td>5.434306e+03</td>\n",
       "    </tr>\n",
       "    <tr>\n",
       "      <th>75%</th>\n",
       "      <td>1680.000000</td>\n",
       "      <td>3.000000</td>\n",
       "      <td>120.000000</td>\n",
       "      <td>3.000000</td>\n",
       "      <td>7.311746e+03</td>\n",
       "    </tr>\n",
       "    <tr>\n",
       "      <th>max</th>\n",
       "      <td>52272.000000</td>\n",
       "      <td>40.000000</td>\n",
       "      <td>3600.000000</td>\n",
       "      <td>43.000000</td>\n",
       "      <td>1.200000e+07</td>\n",
       "    </tr>\n",
       "  </tbody>\n",
       "</table>\n",
       "</div>"
      ],
      "text/plain": [
       "         total_sqft          bath         price           bhk  price_per_sqft\n",
       "count  13274.000000  13320.000000  13320.000000  13320.000000    1.327400e+04\n",
       "mean    1559.626694      2.688814    112.565627      2.802778    7.907501e+03\n",
       "std     1238.405258      1.338754    148.971674      1.294496    1.064296e+05\n",
       "min        1.000000      1.000000      8.000000      1.000000    2.678298e+02\n",
       "25%     1100.000000      2.000000     50.000000      2.000000    4.266865e+03\n",
       "50%     1276.000000      2.000000     72.000000      3.000000    5.434306e+03\n",
       "75%     1680.000000      3.000000    120.000000      3.000000    7.311746e+03\n",
       "max    52272.000000     40.000000   3600.000000     43.000000    1.200000e+07"
      ]
     },
     "execution_count": 26,
     "metadata": {},
     "output_type": "execute_result"
    }
   ],
   "source": [
    "data.describe()"
   ]
  },
  {
   "cell_type": "code",
   "execution_count": 27,
   "id": "19ac8391",
   "metadata": {
    "execution": {
     "iopub.execute_input": "2022-03-02T06:19:37.917791Z",
     "iopub.status.busy": "2022-03-02T06:19:37.912411Z",
     "iopub.status.idle": "2022-03-02T06:19:37.924998Z",
     "shell.execute_reply": "2022-03-02T06:19:37.924200Z",
     "shell.execute_reply.started": "2022-03-02T04:43:08.908967Z"
    },
    "papermill": {
     "duration": 0.106015,
     "end_time": "2022-03-02T06:19:37.925183",
     "exception": false,
     "start_time": "2022-03-02T06:19:37.819168",
     "status": "completed"
    },
    "tags": []
   },
   "outputs": [
    {
     "data": {
      "text/plain": [
       "array([540, 399, 302, 273, 234, 213, 186, 177, 175, 171, 152, 149, 142,\n",
       "       132, 107, 100,  96,  91,  88,  85,  84,  82,  80,  79,  75,  74,\n",
       "        73,  72,  71,  70,  66,  64,  63,  62,  60,  58,  57,  56,  55,\n",
       "        54,  53,  52,  51,  50,  49,  48,  47,  45,  44,  43,  42,  41,\n",
       "        40,  39,  38,  37,  36,  35,  34,  33,  31,  30,  29,  28,  27,\n",
       "        26,  25,  24,  23,  22,  21,  20,  19,  18,  17,  16,  15,  14,\n",
       "        13,  12,  11,  10,   9,   8,   7,   6,   5,   4,   3,   2,   1])"
      ]
     },
     "execution_count": 27,
     "metadata": {},
     "output_type": "execute_result"
    }
   ],
   "source": [
    "data['location'].value_counts().unique()"
   ]
  },
  {
   "cell_type": "code",
   "execution_count": 28,
   "id": "ade19546",
   "metadata": {
    "execution": {
     "iopub.execute_input": "2022-03-02T06:19:38.114530Z",
     "iopub.status.busy": "2022-03-02T06:19:38.113759Z",
     "iopub.status.idle": "2022-03-02T06:19:38.124684Z",
     "shell.execute_reply": "2022-03-02T06:19:38.125211Z",
     "shell.execute_reply.started": "2022-03-02T04:43:09.723698Z"
    },
    "papermill": {
     "duration": 0.107233,
     "end_time": "2022-03-02T06:19:38.125418",
     "exception": false,
     "start_time": "2022-03-02T06:19:38.018185",
     "status": "completed"
    },
    "tags": []
   },
   "outputs": [],
   "source": [
    "data['location']= data['location'].apply(lambda x: x.strip())\n",
    "location_count= data['location'].value_counts()"
   ]
  },
  {
   "cell_type": "markdown",
   "id": "04a2c17a",
   "metadata": {
    "papermill": {
     "duration": 0.08956,
     "end_time": "2022-03-02T06:19:38.304667",
     "exception": false,
     "start_time": "2022-03-02T06:19:38.215107",
     "status": "completed"
    },
    "tags": []
   },
   "source": [
    "**Getting the info of that location which is coming less than 10 times in the data**"
   ]
  },
  {
   "cell_type": "code",
   "execution_count": 29,
   "id": "63678c16",
   "metadata": {
    "execution": {
     "iopub.execute_input": "2022-03-02T06:19:38.492006Z",
     "iopub.status.busy": "2022-03-02T06:19:38.486705Z",
     "iopub.status.idle": "2022-03-02T06:19:38.495578Z",
     "shell.execute_reply": "2022-03-02T06:19:38.496081Z",
     "shell.execute_reply.started": "2022-03-02T04:43:10.493860Z"
    },
    "papermill": {
     "duration": 0.102182,
     "end_time": "2022-03-02T06:19:38.496266",
     "exception": false,
     "start_time": "2022-03-02T06:19:38.394084",
     "status": "completed"
    },
    "tags": []
   },
   "outputs": [
    {
     "data": {
      "text/plain": [
       "BTM 1st Stage                         10\n",
       "Nagadevanahalli                       10\n",
       "Basapura                              10\n",
       "Sector 1 HSR Layout                   10\n",
       "Dairy Circle                          10\n",
       "                                      ..\n",
       "1Channasandra                          1\n",
       "Hosahalli                              1\n",
       "Vijayabank bank layout                 1\n",
       "near Ramanashree California resort     1\n",
       "Abshot Layout                          1\n",
       "Name: location, Length: 1054, dtype: int64"
      ]
     },
     "execution_count": 29,
     "metadata": {},
     "output_type": "execute_result"
    }
   ],
   "source": [
    "location_count_less_10 = location_count[location_count<=10]\n",
    "location_count_less_10"
   ]
  },
  {
   "cell_type": "markdown",
   "id": "e3b4a707",
   "metadata": {
    "papermill": {
     "duration": 0.090661,
     "end_time": "2022-03-02T06:19:38.677855",
     "exception": false,
     "start_time": "2022-03-02T06:19:38.587194",
     "status": "completed"
    },
    "tags": []
   },
   "source": [
    "**If any location is coming less than 10 times so rename it as others bcoz otherwise at the time of encoding it will create alot of variable**"
   ]
  },
  {
   "cell_type": "code",
   "execution_count": 30,
   "id": "ed2d83b5",
   "metadata": {
    "execution": {
     "iopub.execute_input": "2022-03-02T06:19:38.869103Z",
     "iopub.status.busy": "2022-03-02T06:19:38.863967Z",
     "iopub.status.idle": "2022-03-02T06:19:38.889691Z",
     "shell.execute_reply": "2022-03-02T06:19:38.889095Z",
     "shell.execute_reply.started": "2022-03-02T04:43:11.363966Z"
    },
    "papermill": {
     "duration": 0.121752,
     "end_time": "2022-03-02T06:19:38.889885",
     "exception": false,
     "start_time": "2022-03-02T06:19:38.768133",
     "status": "completed"
    },
    "tags": []
   },
   "outputs": [],
   "source": [
    "data['location']= data['location'].apply(lambda x : 'other' if x in location_count_less_10 else x)"
   ]
  },
  {
   "cell_type": "code",
   "execution_count": 31,
   "id": "342bdaf6",
   "metadata": {
    "execution": {
     "iopub.execute_input": "2022-03-02T06:19:39.076454Z",
     "iopub.status.busy": "2022-03-02T06:19:39.075704Z",
     "iopub.status.idle": "2022-03-02T06:19:39.087921Z",
     "shell.execute_reply": "2022-03-02T06:19:39.087359Z",
     "shell.execute_reply.started": "2022-03-02T04:43:12.329005Z"
    },
    "papermill": {
     "duration": 0.108127,
     "end_time": "2022-03-02T06:19:39.088072",
     "exception": false,
     "start_time": "2022-03-02T06:19:38.979945",
     "status": "completed"
    },
    "tags": []
   },
   "outputs": [
    {
     "data": {
      "text/plain": [
       "other                 2886\n",
       "Whitefield             541\n",
       "Sarjapur  Road         399\n",
       "Electronic City        304\n",
       "Kanakpura Road         273\n",
       "                      ... \n",
       "Nehru Nagar             11\n",
       "Banjara Layout          11\n",
       "LB Shastri Nagar        11\n",
       "Pattandur Agrahara      11\n",
       "Narayanapura            11\n",
       "Name: location, Length: 242, dtype: int64"
      ]
     },
     "execution_count": 31,
     "metadata": {},
     "output_type": "execute_result"
    }
   ],
   "source": [
    "data['location'].value_counts()"
   ]
  },
  {
   "cell_type": "code",
   "execution_count": 32,
   "id": "bf5988e4",
   "metadata": {
    "execution": {
     "iopub.execute_input": "2022-03-02T06:19:39.271964Z",
     "iopub.status.busy": "2022-03-02T06:19:39.271303Z",
     "iopub.status.idle": "2022-03-02T06:19:39.297085Z",
     "shell.execute_reply": "2022-03-02T06:19:39.297689Z",
     "shell.execute_reply.started": "2022-03-02T04:43:13.188834Z"
    },
    "papermill": {
     "duration": 0.119357,
     "end_time": "2022-03-02T06:19:39.297889",
     "exception": false,
     "start_time": "2022-03-02T06:19:39.178532",
     "status": "completed"
    },
    "tags": []
   },
   "outputs": [
    {
     "data": {
      "text/html": [
       "<div>\n",
       "<style scoped>\n",
       "    .dataframe tbody tr th:only-of-type {\n",
       "        vertical-align: middle;\n",
       "    }\n",
       "\n",
       "    .dataframe tbody tr th {\n",
       "        vertical-align: top;\n",
       "    }\n",
       "\n",
       "    .dataframe thead th {\n",
       "        text-align: right;\n",
       "    }\n",
       "</style>\n",
       "<table border=\"1\" class=\"dataframe\">\n",
       "  <thead>\n",
       "    <tr style=\"text-align: right;\">\n",
       "      <th></th>\n",
       "      <th>total_sqft</th>\n",
       "      <th>bath</th>\n",
       "      <th>price</th>\n",
       "      <th>bhk</th>\n",
       "      <th>price_per_sqft</th>\n",
       "    </tr>\n",
       "  </thead>\n",
       "  <tbody>\n",
       "    <tr>\n",
       "      <th>count</th>\n",
       "      <td>13274.000000</td>\n",
       "      <td>13320.000000</td>\n",
       "      <td>13320.000000</td>\n",
       "      <td>13320.000000</td>\n",
       "      <td>1.327400e+04</td>\n",
       "    </tr>\n",
       "    <tr>\n",
       "      <th>mean</th>\n",
       "      <td>1559.626694</td>\n",
       "      <td>2.688814</td>\n",
       "      <td>112.565627</td>\n",
       "      <td>2.802778</td>\n",
       "      <td>7.907501e+03</td>\n",
       "    </tr>\n",
       "    <tr>\n",
       "      <th>std</th>\n",
       "      <td>1238.405258</td>\n",
       "      <td>1.338754</td>\n",
       "      <td>148.971674</td>\n",
       "      <td>1.294496</td>\n",
       "      <td>1.064296e+05</td>\n",
       "    </tr>\n",
       "    <tr>\n",
       "      <th>min</th>\n",
       "      <td>1.000000</td>\n",
       "      <td>1.000000</td>\n",
       "      <td>8.000000</td>\n",
       "      <td>1.000000</td>\n",
       "      <td>2.678298e+02</td>\n",
       "    </tr>\n",
       "    <tr>\n",
       "      <th>25%</th>\n",
       "      <td>1100.000000</td>\n",
       "      <td>2.000000</td>\n",
       "      <td>50.000000</td>\n",
       "      <td>2.000000</td>\n",
       "      <td>4.266865e+03</td>\n",
       "    </tr>\n",
       "    <tr>\n",
       "      <th>50%</th>\n",
       "      <td>1276.000000</td>\n",
       "      <td>2.000000</td>\n",
       "      <td>72.000000</td>\n",
       "      <td>3.000000</td>\n",
       "      <td>5.434306e+03</td>\n",
       "    </tr>\n",
       "    <tr>\n",
       "      <th>75%</th>\n",
       "      <td>1680.000000</td>\n",
       "      <td>3.000000</td>\n",
       "      <td>120.000000</td>\n",
       "      <td>3.000000</td>\n",
       "      <td>7.311746e+03</td>\n",
       "    </tr>\n",
       "    <tr>\n",
       "      <th>max</th>\n",
       "      <td>52272.000000</td>\n",
       "      <td>40.000000</td>\n",
       "      <td>3600.000000</td>\n",
       "      <td>43.000000</td>\n",
       "      <td>1.200000e+07</td>\n",
       "    </tr>\n",
       "  </tbody>\n",
       "</table>\n",
       "</div>"
      ],
      "text/plain": [
       "         total_sqft          bath         price           bhk  price_per_sqft\n",
       "count  13274.000000  13320.000000  13320.000000  13320.000000    1.327400e+04\n",
       "mean    1559.626694      2.688814    112.565627      2.802778    7.907501e+03\n",
       "std     1238.405258      1.338754    148.971674      1.294496    1.064296e+05\n",
       "min        1.000000      1.000000      8.000000      1.000000    2.678298e+02\n",
       "25%     1100.000000      2.000000     50.000000      2.000000    4.266865e+03\n",
       "50%     1276.000000      2.000000     72.000000      3.000000    5.434306e+03\n",
       "75%     1680.000000      3.000000    120.000000      3.000000    7.311746e+03\n",
       "max    52272.000000     40.000000   3600.000000     43.000000    1.200000e+07"
      ]
     },
     "execution_count": 32,
     "metadata": {},
     "output_type": "execute_result"
    }
   ],
   "source": [
    "data.describe()"
   ]
  },
  {
   "cell_type": "markdown",
   "id": "2eb8edbd",
   "metadata": {
    "papermill": {
     "duration": 0.09074,
     "end_time": "2022-03-02T06:19:39.479404",
     "exception": false,
     "start_time": "2022-03-02T06:19:39.388664",
     "status": "completed"
    },
    "tags": []
   },
   "source": [
    "**Getting the info of aveage area with respect to BHK**"
   ]
  },
  {
   "cell_type": "code",
   "execution_count": 33,
   "id": "fc8fd840",
   "metadata": {
    "execution": {
     "iopub.execute_input": "2022-03-02T06:19:39.665887Z",
     "iopub.status.busy": "2022-03-02T06:19:39.665202Z",
     "iopub.status.idle": "2022-03-02T06:19:39.676108Z",
     "shell.execute_reply": "2022-03-02T06:19:39.675485Z",
     "shell.execute_reply.started": "2022-03-02T04:43:13.968661Z"
    },
    "papermill": {
     "duration": 0.105732,
     "end_time": "2022-03-02T06:19:39.676262",
     "exception": false,
     "start_time": "2022-03-02T06:19:39.570530",
     "status": "completed"
    },
    "tags": []
   },
   "outputs": [
    {
     "data": {
      "text/plain": [
       "count    13274.000000\n",
       "mean       575.074878\n",
       "std        388.205175\n",
       "min          0.250000\n",
       "25%        473.333333\n",
       "50%        552.500000\n",
       "75%        625.000000\n",
       "max      26136.000000\n",
       "dtype: float64"
      ]
     },
     "execution_count": 33,
     "metadata": {},
     "output_type": "execute_result"
    }
   ],
   "source": [
    "(data['total_sqft']/data['bhk']).describe()"
   ]
  },
  {
   "cell_type": "markdown",
   "id": "32dda173",
   "metadata": {
    "papermill": {
     "duration": 0.090964,
     "end_time": "2022-03-02T06:19:39.858829",
     "exception": false,
     "start_time": "2022-03-02T06:19:39.767865",
     "status": "completed"
    },
    "tags": []
   },
   "source": [
    "**Getting all the rows which have more than 300 total_sqft/BHK**"
   ]
  },
  {
   "cell_type": "code",
   "execution_count": 34,
   "id": "298a5f7e",
   "metadata": {
    "execution": {
     "iopub.execute_input": "2022-03-02T06:19:40.050994Z",
     "iopub.status.busy": "2022-03-02T06:19:40.050293Z",
     "iopub.status.idle": "2022-03-02T06:19:40.075748Z",
     "shell.execute_reply": "2022-03-02T06:19:40.076276Z",
     "shell.execute_reply.started": "2022-03-02T04:43:14.833978Z"
    },
    "papermill": {
     "duration": 0.124874,
     "end_time": "2022-03-02T06:19:40.076479",
     "exception": false,
     "start_time": "2022-03-02T06:19:39.951605",
     "status": "completed"
    },
    "tags": []
   },
   "outputs": [
    {
     "data": {
      "text/html": [
       "<div>\n",
       "<style scoped>\n",
       "    .dataframe tbody tr th:only-of-type {\n",
       "        vertical-align: middle;\n",
       "    }\n",
       "\n",
       "    .dataframe tbody tr th {\n",
       "        vertical-align: top;\n",
       "    }\n",
       "\n",
       "    .dataframe thead th {\n",
       "        text-align: right;\n",
       "    }\n",
       "</style>\n",
       "<table border=\"1\" class=\"dataframe\">\n",
       "  <thead>\n",
       "    <tr style=\"text-align: right;\">\n",
       "      <th></th>\n",
       "      <th>total_sqft</th>\n",
       "      <th>bath</th>\n",
       "      <th>price</th>\n",
       "      <th>bhk</th>\n",
       "      <th>price_per_sqft</th>\n",
       "    </tr>\n",
       "  </thead>\n",
       "  <tbody>\n",
       "    <tr>\n",
       "      <th>count</th>\n",
       "      <td>12530.000000</td>\n",
       "      <td>12530.000000</td>\n",
       "      <td>12530.000000</td>\n",
       "      <td>12530.000000</td>\n",
       "      <td>12530.000000</td>\n",
       "    </tr>\n",
       "    <tr>\n",
       "      <th>mean</th>\n",
       "      <td>1594.564544</td>\n",
       "      <td>2.559537</td>\n",
       "      <td>111.382401</td>\n",
       "      <td>2.650838</td>\n",
       "      <td>6303.979357</td>\n",
       "    </tr>\n",
       "    <tr>\n",
       "      <th>std</th>\n",
       "      <td>1261.271296</td>\n",
       "      <td>1.077938</td>\n",
       "      <td>152.077329</td>\n",
       "      <td>0.976678</td>\n",
       "      <td>4162.237981</td>\n",
       "    </tr>\n",
       "    <tr>\n",
       "      <th>min</th>\n",
       "      <td>300.000000</td>\n",
       "      <td>1.000000</td>\n",
       "      <td>8.440000</td>\n",
       "      <td>1.000000</td>\n",
       "      <td>267.829813</td>\n",
       "    </tr>\n",
       "    <tr>\n",
       "      <th>25%</th>\n",
       "      <td>1116.000000</td>\n",
       "      <td>2.000000</td>\n",
       "      <td>49.000000</td>\n",
       "      <td>2.000000</td>\n",
       "      <td>4210.526316</td>\n",
       "    </tr>\n",
       "    <tr>\n",
       "      <th>50%</th>\n",
       "      <td>1300.000000</td>\n",
       "      <td>2.000000</td>\n",
       "      <td>70.000000</td>\n",
       "      <td>3.000000</td>\n",
       "      <td>5294.117647</td>\n",
       "    </tr>\n",
       "    <tr>\n",
       "      <th>75%</th>\n",
       "      <td>1700.000000</td>\n",
       "      <td>3.000000</td>\n",
       "      <td>115.000000</td>\n",
       "      <td>3.000000</td>\n",
       "      <td>6916.666667</td>\n",
       "    </tr>\n",
       "    <tr>\n",
       "      <th>max</th>\n",
       "      <td>52272.000000</td>\n",
       "      <td>16.000000</td>\n",
       "      <td>3600.000000</td>\n",
       "      <td>16.000000</td>\n",
       "      <td>176470.588235</td>\n",
       "    </tr>\n",
       "  </tbody>\n",
       "</table>\n",
       "</div>"
      ],
      "text/plain": [
       "         total_sqft          bath         price           bhk  price_per_sqft\n",
       "count  12530.000000  12530.000000  12530.000000  12530.000000    12530.000000\n",
       "mean    1594.564544      2.559537    111.382401      2.650838     6303.979357\n",
       "std     1261.271296      1.077938    152.077329      0.976678     4162.237981\n",
       "min      300.000000      1.000000      8.440000      1.000000      267.829813\n",
       "25%     1116.000000      2.000000     49.000000      2.000000     4210.526316\n",
       "50%     1300.000000      2.000000     70.000000      3.000000     5294.117647\n",
       "75%     1700.000000      3.000000    115.000000      3.000000     6916.666667\n",
       "max    52272.000000     16.000000   3600.000000     16.000000   176470.588235"
      ]
     },
     "execution_count": 34,
     "metadata": {},
     "output_type": "execute_result"
    }
   ],
   "source": [
    "data= data[((data['total_sqft']/data['bhk'])>=300)]\n",
    "data.describe()"
   ]
  },
  {
   "cell_type": "code",
   "execution_count": 35,
   "id": "3d942604",
   "metadata": {
    "execution": {
     "iopub.execute_input": "2022-03-02T06:19:40.265277Z",
     "iopub.status.busy": "2022-03-02T06:19:40.264632Z",
     "iopub.status.idle": "2022-03-02T06:19:40.269518Z",
     "shell.execute_reply": "2022-03-02T06:19:40.270094Z",
     "shell.execute_reply.started": "2022-03-02T04:43:15.603717Z"
    },
    "papermill": {
     "duration": 0.101032,
     "end_time": "2022-03-02T06:19:40.270277",
     "exception": false,
     "start_time": "2022-03-02T06:19:40.169245",
     "status": "completed"
    },
    "tags": []
   },
   "outputs": [
    {
     "data": {
      "text/plain": [
       "(12530, 7)"
      ]
     },
     "execution_count": 35,
     "metadata": {},
     "output_type": "execute_result"
    }
   ],
   "source": [
    "data.shape"
   ]
  },
  {
   "cell_type": "code",
   "execution_count": 36,
   "id": "6aab77c0",
   "metadata": {
    "execution": {
     "iopub.execute_input": "2022-03-02T06:19:40.461575Z",
     "iopub.status.busy": "2022-03-02T06:19:40.459307Z",
     "iopub.status.idle": "2022-03-02T06:19:40.470305Z",
     "shell.execute_reply": "2022-03-02T06:19:40.470852Z",
     "shell.execute_reply.started": "2022-03-02T04:43:16.358437Z"
    },
    "papermill": {
     "duration": 0.107448,
     "end_time": "2022-03-02T06:19:40.471036",
     "exception": false,
     "start_time": "2022-03-02T06:19:40.363588",
     "status": "completed"
    },
    "tags": []
   },
   "outputs": [
    {
     "data": {
      "text/plain": [
       "count     12530.000000\n",
       "mean       6303.979357\n",
       "std        4162.237981\n",
       "min         267.829813\n",
       "25%        4210.526316\n",
       "50%        5294.117647\n",
       "75%        6916.666667\n",
       "max      176470.588235\n",
       "Name: price_per_sqft, dtype: float64"
      ]
     },
     "execution_count": 36,
     "metadata": {},
     "output_type": "execute_result"
    }
   ],
   "source": [
    "data.price_per_sqft.describe()"
   ]
  },
  {
   "cell_type": "markdown",
   "id": "596cb26a",
   "metadata": {
    "papermill": {
     "duration": 0.092218,
     "end_time": "2022-03-02T06:19:40.656537",
     "exception": false,
     "start_time": "2022-03-02T06:19:40.564319",
     "status": "completed"
    },
    "tags": []
   },
   "source": [
    "**For removing the outliers we will group the data on the basis of location then if the house price_per_sqft is not into the 1 standard deviation of the mean price so we will consider that as outliers and will remove that data**"
   ]
  },
  {
   "cell_type": "code",
   "execution_count": 37,
   "id": "70209f7f",
   "metadata": {
    "execution": {
     "iopub.execute_input": "2022-03-02T06:19:40.853849Z",
     "iopub.status.busy": "2022-03-02T06:19:40.852828Z",
     "iopub.status.idle": "2022-03-02T06:19:41.348421Z",
     "shell.execute_reply": "2022-03-02T06:19:41.347729Z",
     "shell.execute_reply.started": "2022-03-02T04:51:15.655072Z"
    },
    "papermill": {
     "duration": 0.598673,
     "end_time": "2022-03-02T06:19:41.348583",
     "exception": false,
     "start_time": "2022-03-02T06:19:40.749910",
     "status": "completed"
    },
    "tags": []
   },
   "outputs": [
    {
     "data": {
      "text/html": [
       "<div>\n",
       "<style scoped>\n",
       "    .dataframe tbody tr th:only-of-type {\n",
       "        vertical-align: middle;\n",
       "    }\n",
       "\n",
       "    .dataframe tbody tr th {\n",
       "        vertical-align: top;\n",
       "    }\n",
       "\n",
       "    .dataframe thead th {\n",
       "        text-align: right;\n",
       "    }\n",
       "</style>\n",
       "<table border=\"1\" class=\"dataframe\">\n",
       "  <thead>\n",
       "    <tr style=\"text-align: right;\">\n",
       "      <th></th>\n",
       "      <th>total_sqft</th>\n",
       "      <th>bath</th>\n",
       "      <th>price</th>\n",
       "      <th>bhk</th>\n",
       "      <th>price_per_sqft</th>\n",
       "    </tr>\n",
       "  </thead>\n",
       "  <tbody>\n",
       "    <tr>\n",
       "      <th>count</th>\n",
       "      <td>10301.000000</td>\n",
       "      <td>10301.000000</td>\n",
       "      <td>10301.000000</td>\n",
       "      <td>10301.000000</td>\n",
       "      <td>10301.000000</td>\n",
       "    </tr>\n",
       "    <tr>\n",
       "      <th>mean</th>\n",
       "      <td>1508.440608</td>\n",
       "      <td>2.471702</td>\n",
       "      <td>91.286372</td>\n",
       "      <td>2.574896</td>\n",
       "      <td>5659.062876</td>\n",
       "    </tr>\n",
       "    <tr>\n",
       "      <th>std</th>\n",
       "      <td>880.694214</td>\n",
       "      <td>0.979449</td>\n",
       "      <td>86.342786</td>\n",
       "      <td>0.897649</td>\n",
       "      <td>2265.774749</td>\n",
       "    </tr>\n",
       "    <tr>\n",
       "      <th>min</th>\n",
       "      <td>300.000000</td>\n",
       "      <td>1.000000</td>\n",
       "      <td>10.000000</td>\n",
       "      <td>1.000000</td>\n",
       "      <td>1250.000000</td>\n",
       "    </tr>\n",
       "    <tr>\n",
       "      <th>25%</th>\n",
       "      <td>1110.000000</td>\n",
       "      <td>2.000000</td>\n",
       "      <td>49.000000</td>\n",
       "      <td>2.000000</td>\n",
       "      <td>4244.897959</td>\n",
       "    </tr>\n",
       "    <tr>\n",
       "      <th>50%</th>\n",
       "      <td>1286.000000</td>\n",
       "      <td>2.000000</td>\n",
       "      <td>67.000000</td>\n",
       "      <td>2.000000</td>\n",
       "      <td>5175.600739</td>\n",
       "    </tr>\n",
       "    <tr>\n",
       "      <th>75%</th>\n",
       "      <td>1650.000000</td>\n",
       "      <td>3.000000</td>\n",
       "      <td>100.000000</td>\n",
       "      <td>3.000000</td>\n",
       "      <td>6428.571429</td>\n",
       "    </tr>\n",
       "    <tr>\n",
       "      <th>max</th>\n",
       "      <td>30400.000000</td>\n",
       "      <td>16.000000</td>\n",
       "      <td>2200.000000</td>\n",
       "      <td>16.000000</td>\n",
       "      <td>24509.803922</td>\n",
       "    </tr>\n",
       "  </tbody>\n",
       "</table>\n",
       "</div>"
      ],
      "text/plain": [
       "         total_sqft          bath         price           bhk  price_per_sqft\n",
       "count  10301.000000  10301.000000  10301.000000  10301.000000    10301.000000\n",
       "mean    1508.440608      2.471702     91.286372      2.574896     5659.062876\n",
       "std      880.694214      0.979449     86.342786      0.897649     2265.774749\n",
       "min      300.000000      1.000000     10.000000      1.000000     1250.000000\n",
       "25%     1110.000000      2.000000     49.000000      2.000000     4244.897959\n",
       "50%     1286.000000      2.000000     67.000000      2.000000     5175.600739\n",
       "75%     1650.000000      3.000000    100.000000      3.000000     6428.571429\n",
       "max    30400.000000     16.000000   2200.000000     16.000000    24509.803922"
      ]
     },
     "execution_count": 37,
     "metadata": {},
     "output_type": "execute_result"
    }
   ],
   "source": [
    "def remove_outliers_sqft (df):\n",
    "    df_output = pd.DataFrame()\n",
    "    for key,subdf in df.groupby('location'):\n",
    "        m= np.mean(subdf.price_per_sqft)\n",
    "        \n",
    "        st=np.std(subdf.price_per_sqft)\n",
    "        gen_df = subdf[(subdf.price_per_sqft > (m-st)) & (subdf.price_per_sqft <= (m+st))]\n",
    "        df_output = pd.concat([df_output,gen_df],ignore_index = True)\n",
    "    return df_output\n",
    "data= remove_outliers_sqft(data)\n",
    "data.describe()"
   ]
  },
  {
   "cell_type": "code",
   "execution_count": 38,
   "id": "dcf2732a",
   "metadata": {
    "execution": {
     "iopub.execute_input": "2022-03-02T06:19:41.547335Z",
     "iopub.status.busy": "2022-03-02T06:19:41.546231Z",
     "iopub.status.idle": "2022-03-02T06:19:41.549178Z",
     "shell.execute_reply": "2022-03-02T06:19:41.548581Z",
     "shell.execute_reply.started": "2022-03-02T05:05:16.142311Z"
    },
    "papermill": {
     "duration": 0.107386,
     "end_time": "2022-03-02T06:19:41.549337",
     "exception": false,
     "start_time": "2022-03-02T06:19:41.441951",
     "status": "completed"
    },
    "tags": []
   },
   "outputs": [],
   "source": [
    "def bhk_outlier_remove(df):\n",
    "    exclude_indices =np.array([])\n",
    "    for location, location_df in df.groupby('location'):\n",
    "        bhk_stats= {}\n",
    "        for bhk, bhk_df in location_df.groupby('bhk'):\n",
    "            bhk_stats[bhk]= {\n",
    "                'mean': np.mean(bhk_df.price_per_sqft),\n",
    "                'std': np.std(bhk_df.price_per_sqft),\n",
    "                'count': bhk_df.shape[0]\n",
    "            }\n",
    "            \n",
    "        for bhk,bhk_df in location_df.groupby('bhk'):\n",
    "            stats= bhk_stats.get(bhk-1)\n",
    "            if stats and stats ['count']>5:\n",
    "                exclude_indices =np.append(exclude_indices, bhk_df[bhk_df.price_per_sqft<(stats['mean'])].index.values)\n",
    "    return df.drop(exclude_indices,axis ='index')"
   ]
  },
  {
   "cell_type": "code",
   "execution_count": 39,
   "id": "a58566b7",
   "metadata": {
    "execution": {
     "iopub.execute_input": "2022-03-02T06:19:41.743477Z",
     "iopub.status.busy": "2022-03-02T06:19:41.742764Z",
     "iopub.status.idle": "2022-03-02T06:19:42.358597Z",
     "shell.execute_reply": "2022-03-02T06:19:42.357903Z",
     "shell.execute_reply.started": "2022-03-02T05:12:05.494821Z"
    },
    "papermill": {
     "duration": 0.715679,
     "end_time": "2022-03-02T06:19:42.358764",
     "exception": false,
     "start_time": "2022-03-02T06:19:41.643085",
     "status": "completed"
    },
    "tags": []
   },
   "outputs": [],
   "source": [
    "data=bhk_outlier_remove(data)"
   ]
  },
  {
   "cell_type": "markdown",
   "id": "6542f3f3",
   "metadata": {
    "papermill": {
     "duration": 0.09362,
     "end_time": "2022-03-02T06:19:42.545897",
     "exception": false,
     "start_time": "2022-03-02T06:19:42.452277",
     "status": "completed"
    },
    "tags": []
   },
   "source": [
    "**New and cleaned Datset**"
   ]
  },
  {
   "cell_type": "code",
   "execution_count": 40,
   "id": "73de2a67",
   "metadata": {
    "execution": {
     "iopub.execute_input": "2022-03-02T06:19:42.739676Z",
     "iopub.status.busy": "2022-03-02T06:19:42.738657Z",
     "iopub.status.idle": "2022-03-02T06:19:42.741988Z",
     "shell.execute_reply": "2022-03-02T06:19:42.742611Z",
     "shell.execute_reply.started": "2022-03-02T05:12:14.975112Z"
    },
    "papermill": {
     "duration": 0.103573,
     "end_time": "2022-03-02T06:19:42.742799",
     "exception": false,
     "start_time": "2022-03-02T06:19:42.639226",
     "status": "completed"
    },
    "tags": []
   },
   "outputs": [
    {
     "data": {
      "text/plain": [
       "(7361, 7)"
      ]
     },
     "execution_count": 40,
     "metadata": {},
     "output_type": "execute_result"
    }
   ],
   "source": [
    "data.shape"
   ]
  },
  {
   "cell_type": "code",
   "execution_count": 41,
   "id": "e5e5dc2c",
   "metadata": {
    "execution": {
     "iopub.execute_input": "2022-03-02T06:19:42.937152Z",
     "iopub.status.busy": "2022-03-02T06:19:42.936459Z",
     "iopub.status.idle": "2022-03-02T06:19:42.954076Z",
     "shell.execute_reply": "2022-03-02T06:19:42.953417Z",
     "shell.execute_reply.started": "2022-03-02T05:12:29.804998Z"
    },
    "papermill": {
     "duration": 0.116708,
     "end_time": "2022-03-02T06:19:42.954229",
     "exception": false,
     "start_time": "2022-03-02T06:19:42.837521",
     "status": "completed"
    },
    "tags": []
   },
   "outputs": [
    {
     "data": {
      "text/html": [
       "<div>\n",
       "<style scoped>\n",
       "    .dataframe tbody tr th:only-of-type {\n",
       "        vertical-align: middle;\n",
       "    }\n",
       "\n",
       "    .dataframe tbody tr th {\n",
       "        vertical-align: top;\n",
       "    }\n",
       "\n",
       "    .dataframe thead th {\n",
       "        text-align: right;\n",
       "    }\n",
       "</style>\n",
       "<table border=\"1\" class=\"dataframe\">\n",
       "  <thead>\n",
       "    <tr style=\"text-align: right;\">\n",
       "      <th></th>\n",
       "      <th>location</th>\n",
       "      <th>size</th>\n",
       "      <th>total_sqft</th>\n",
       "      <th>bath</th>\n",
       "      <th>price</th>\n",
       "      <th>bhk</th>\n",
       "      <th>price_per_sqft</th>\n",
       "    </tr>\n",
       "  </thead>\n",
       "  <tbody>\n",
       "    <tr>\n",
       "      <th>0</th>\n",
       "      <td>1st Block Jayanagar</td>\n",
       "      <td>4 BHK</td>\n",
       "      <td>2850.0</td>\n",
       "      <td>4.0</td>\n",
       "      <td>428.0</td>\n",
       "      <td>4</td>\n",
       "      <td>15017.543860</td>\n",
       "    </tr>\n",
       "    <tr>\n",
       "      <th>1</th>\n",
       "      <td>1st Block Jayanagar</td>\n",
       "      <td>3 BHK</td>\n",
       "      <td>1630.0</td>\n",
       "      <td>3.0</td>\n",
       "      <td>194.0</td>\n",
       "      <td>3</td>\n",
       "      <td>11901.840491</td>\n",
       "    </tr>\n",
       "    <tr>\n",
       "      <th>2</th>\n",
       "      <td>1st Block Jayanagar</td>\n",
       "      <td>3 BHK</td>\n",
       "      <td>1875.0</td>\n",
       "      <td>2.0</td>\n",
       "      <td>235.0</td>\n",
       "      <td>3</td>\n",
       "      <td>12533.333333</td>\n",
       "    </tr>\n",
       "    <tr>\n",
       "      <th>3</th>\n",
       "      <td>1st Block Jayanagar</td>\n",
       "      <td>3 BHK</td>\n",
       "      <td>1200.0</td>\n",
       "      <td>2.0</td>\n",
       "      <td>130.0</td>\n",
       "      <td>3</td>\n",
       "      <td>10833.333333</td>\n",
       "    </tr>\n",
       "    <tr>\n",
       "      <th>4</th>\n",
       "      <td>1st Block Jayanagar</td>\n",
       "      <td>2 BHK</td>\n",
       "      <td>1235.0</td>\n",
       "      <td>2.0</td>\n",
       "      <td>148.0</td>\n",
       "      <td>2</td>\n",
       "      <td>11983.805668</td>\n",
       "    </tr>\n",
       "    <tr>\n",
       "      <th>...</th>\n",
       "      <td>...</td>\n",
       "      <td>...</td>\n",
       "      <td>...</td>\n",
       "      <td>...</td>\n",
       "      <td>...</td>\n",
       "      <td>...</td>\n",
       "      <td>...</td>\n",
       "    </tr>\n",
       "    <tr>\n",
       "      <th>10292</th>\n",
       "      <td>other</td>\n",
       "      <td>2 BHK</td>\n",
       "      <td>1200.0</td>\n",
       "      <td>2.0</td>\n",
       "      <td>70.0</td>\n",
       "      <td>2</td>\n",
       "      <td>5833.333333</td>\n",
       "    </tr>\n",
       "    <tr>\n",
       "      <th>10293</th>\n",
       "      <td>other</td>\n",
       "      <td>1 BHK</td>\n",
       "      <td>1800.0</td>\n",
       "      <td>1.0</td>\n",
       "      <td>200.0</td>\n",
       "      <td>1</td>\n",
       "      <td>11111.111111</td>\n",
       "    </tr>\n",
       "    <tr>\n",
       "      <th>10296</th>\n",
       "      <td>other</td>\n",
       "      <td>2 BHK</td>\n",
       "      <td>1353.0</td>\n",
       "      <td>2.0</td>\n",
       "      <td>110.0</td>\n",
       "      <td>2</td>\n",
       "      <td>8130.081301</td>\n",
       "    </tr>\n",
       "    <tr>\n",
       "      <th>10297</th>\n",
       "      <td>other</td>\n",
       "      <td>1 Bedroom</td>\n",
       "      <td>812.0</td>\n",
       "      <td>1.0</td>\n",
       "      <td>26.0</td>\n",
       "      <td>1</td>\n",
       "      <td>3201.970443</td>\n",
       "    </tr>\n",
       "    <tr>\n",
       "      <th>10300</th>\n",
       "      <td>other</td>\n",
       "      <td>4 BHK</td>\n",
       "      <td>3600.0</td>\n",
       "      <td>5.0</td>\n",
       "      <td>400.0</td>\n",
       "      <td>4</td>\n",
       "      <td>11111.111111</td>\n",
       "    </tr>\n",
       "  </tbody>\n",
       "</table>\n",
       "<p>7361 rows × 7 columns</p>\n",
       "</div>"
      ],
      "text/plain": [
       "                  location       size  total_sqft  bath  price  bhk  \\\n",
       "0      1st Block Jayanagar      4 BHK      2850.0   4.0  428.0    4   \n",
       "1      1st Block Jayanagar      3 BHK      1630.0   3.0  194.0    3   \n",
       "2      1st Block Jayanagar      3 BHK      1875.0   2.0  235.0    3   \n",
       "3      1st Block Jayanagar      3 BHK      1200.0   2.0  130.0    3   \n",
       "4      1st Block Jayanagar      2 BHK      1235.0   2.0  148.0    2   \n",
       "...                    ...        ...         ...   ...    ...  ...   \n",
       "10292                other      2 BHK      1200.0   2.0   70.0    2   \n",
       "10293                other      1 BHK      1800.0   1.0  200.0    1   \n",
       "10296                other      2 BHK      1353.0   2.0  110.0    2   \n",
       "10297                other  1 Bedroom       812.0   1.0   26.0    1   \n",
       "10300                other      4 BHK      3600.0   5.0  400.0    4   \n",
       "\n",
       "       price_per_sqft  \n",
       "0        15017.543860  \n",
       "1        11901.840491  \n",
       "2        12533.333333  \n",
       "3        10833.333333  \n",
       "4        11983.805668  \n",
       "...               ...  \n",
       "10292     5833.333333  \n",
       "10293    11111.111111  \n",
       "10296     8130.081301  \n",
       "10297     3201.970443  \n",
       "10300    11111.111111  \n",
       "\n",
       "[7361 rows x 7 columns]"
      ]
     },
     "execution_count": 41,
     "metadata": {},
     "output_type": "execute_result"
    }
   ],
   "source": [
    "data"
   ]
  },
  {
   "cell_type": "code",
   "execution_count": 42,
   "id": "5720d4e0",
   "metadata": {
    "execution": {
     "iopub.execute_input": "2022-03-02T06:19:43.152543Z",
     "iopub.status.busy": "2022-03-02T06:19:43.151883Z",
     "iopub.status.idle": "2022-03-02T06:19:43.154139Z",
     "shell.execute_reply": "2022-03-02T06:19:43.154669Z",
     "shell.execute_reply.started": "2022-03-02T05:13:28.524727Z"
    },
    "papermill": {
     "duration": 0.103447,
     "end_time": "2022-03-02T06:19:43.154857",
     "exception": false,
     "start_time": "2022-03-02T06:19:43.051410",
     "status": "completed"
    },
    "tags": []
   },
   "outputs": [],
   "source": [
    "data.drop(columns=['size','price_per_sqft'],inplace= True)"
   ]
  },
  {
   "cell_type": "code",
   "execution_count": 43,
   "id": "536231a3",
   "metadata": {
    "execution": {
     "iopub.execute_input": "2022-03-02T06:19:43.349523Z",
     "iopub.status.busy": "2022-03-02T06:19:43.348892Z",
     "iopub.status.idle": "2022-03-02T06:19:43.361991Z",
     "shell.execute_reply": "2022-03-02T06:19:43.361485Z",
     "shell.execute_reply.started": "2022-03-02T05:14:10.174911Z"
    },
    "papermill": {
     "duration": 0.111983,
     "end_time": "2022-03-02T06:19:43.362140",
     "exception": false,
     "start_time": "2022-03-02T06:19:43.250157",
     "status": "completed"
    },
    "tags": []
   },
   "outputs": [
    {
     "data": {
      "text/html": [
       "<div>\n",
       "<style scoped>\n",
       "    .dataframe tbody tr th:only-of-type {\n",
       "        vertical-align: middle;\n",
       "    }\n",
       "\n",
       "    .dataframe tbody tr th {\n",
       "        vertical-align: top;\n",
       "    }\n",
       "\n",
       "    .dataframe thead th {\n",
       "        text-align: right;\n",
       "    }\n",
       "</style>\n",
       "<table border=\"1\" class=\"dataframe\">\n",
       "  <thead>\n",
       "    <tr style=\"text-align: right;\">\n",
       "      <th></th>\n",
       "      <th>location</th>\n",
       "      <th>total_sqft</th>\n",
       "      <th>bath</th>\n",
       "      <th>price</th>\n",
       "      <th>bhk</th>\n",
       "    </tr>\n",
       "  </thead>\n",
       "  <tbody>\n",
       "    <tr>\n",
       "      <th>0</th>\n",
       "      <td>1st Block Jayanagar</td>\n",
       "      <td>2850.0</td>\n",
       "      <td>4.0</td>\n",
       "      <td>428.0</td>\n",
       "      <td>4</td>\n",
       "    </tr>\n",
       "    <tr>\n",
       "      <th>1</th>\n",
       "      <td>1st Block Jayanagar</td>\n",
       "      <td>1630.0</td>\n",
       "      <td>3.0</td>\n",
       "      <td>194.0</td>\n",
       "      <td>3</td>\n",
       "    </tr>\n",
       "    <tr>\n",
       "      <th>2</th>\n",
       "      <td>1st Block Jayanagar</td>\n",
       "      <td>1875.0</td>\n",
       "      <td>2.0</td>\n",
       "      <td>235.0</td>\n",
       "      <td>3</td>\n",
       "    </tr>\n",
       "    <tr>\n",
       "      <th>3</th>\n",
       "      <td>1st Block Jayanagar</td>\n",
       "      <td>1200.0</td>\n",
       "      <td>2.0</td>\n",
       "      <td>130.0</td>\n",
       "      <td>3</td>\n",
       "    </tr>\n",
       "    <tr>\n",
       "      <th>4</th>\n",
       "      <td>1st Block Jayanagar</td>\n",
       "      <td>1235.0</td>\n",
       "      <td>2.0</td>\n",
       "      <td>148.0</td>\n",
       "      <td>2</td>\n",
       "    </tr>\n",
       "  </tbody>\n",
       "</table>\n",
       "</div>"
      ],
      "text/plain": [
       "              location  total_sqft  bath  price  bhk\n",
       "0  1st Block Jayanagar      2850.0   4.0  428.0    4\n",
       "1  1st Block Jayanagar      1630.0   3.0  194.0    3\n",
       "2  1st Block Jayanagar      1875.0   2.0  235.0    3\n",
       "3  1st Block Jayanagar      1200.0   2.0  130.0    3\n",
       "4  1st Block Jayanagar      1235.0   2.0  148.0    2"
      ]
     },
     "execution_count": 43,
     "metadata": {},
     "output_type": "execute_result"
    }
   ],
   "source": [
    "data.head()"
   ]
  },
  {
   "cell_type": "code",
   "execution_count": 44,
   "id": "097b23b7",
   "metadata": {
    "execution": {
     "iopub.execute_input": "2022-03-02T06:19:43.558962Z",
     "iopub.status.busy": "2022-03-02T06:19:43.557946Z",
     "iopub.status.idle": "2022-03-02T06:19:43.602633Z",
     "shell.execute_reply": "2022-03-02T06:19:43.603225Z",
     "shell.execute_reply.started": "2022-03-02T05:14:57.710231Z"
    },
    "papermill": {
     "duration": 0.145986,
     "end_time": "2022-03-02T06:19:43.603461",
     "exception": false,
     "start_time": "2022-03-02T06:19:43.457475",
     "status": "completed"
    },
    "tags": []
   },
   "outputs": [],
   "source": [
    "data.to_csv('cleaned_data.csv')"
   ]
  },
  {
   "cell_type": "markdown",
   "id": "b0f5e6bf",
   "metadata": {
    "papermill": {
     "duration": 0.094593,
     "end_time": "2022-03-02T06:19:43.794666",
     "exception": false,
     "start_time": "2022-03-02T06:19:43.700073",
     "status": "completed"
    },
    "tags": []
   },
   "source": [
    "**Dropping the output columns and taking in y**"
   ]
  },
  {
   "cell_type": "code",
   "execution_count": 45,
   "id": "6af85ebc",
   "metadata": {
    "execution": {
     "iopub.execute_input": "2022-03-02T06:19:43.990096Z",
     "iopub.status.busy": "2022-03-02T06:19:43.989358Z",
     "iopub.status.idle": "2022-03-02T06:19:43.994204Z",
     "shell.execute_reply": "2022-03-02T06:19:43.994709Z",
     "shell.execute_reply.started": "2022-03-02T05:15:37.199956Z"
    },
    "papermill": {
     "duration": 0.104142,
     "end_time": "2022-03-02T06:19:43.994899",
     "exception": false,
     "start_time": "2022-03-02T06:19:43.890757",
     "status": "completed"
    },
    "tags": []
   },
   "outputs": [],
   "source": [
    "X= data.drop(columns=['price'])\n",
    "y=data['price']"
   ]
  },
  {
   "cell_type": "markdown",
   "id": "3efc8838",
   "metadata": {
    "papermill": {
     "duration": 0.095422,
     "end_time": "2022-03-02T06:19:44.187847",
     "exception": false,
     "start_time": "2022-03-02T06:19:44.092425",
     "status": "completed"
    },
    "tags": []
   },
   "source": [
    "**Importing the usefull library for our calculations**"
   ]
  },
  {
   "cell_type": "code",
   "execution_count": 46,
   "id": "d62b0562",
   "metadata": {
    "execution": {
     "iopub.execute_input": "2022-03-02T06:19:44.387083Z",
     "iopub.status.busy": "2022-03-02T06:19:44.386398Z",
     "iopub.status.idle": "2022-03-02T06:19:45.388104Z",
     "shell.execute_reply": "2022-03-02T06:19:45.387316Z",
     "shell.execute_reply.started": "2022-03-02T05:19:14.035525Z"
    },
    "papermill": {
     "duration": 1.104718,
     "end_time": "2022-03-02T06:19:45.388272",
     "exception": false,
     "start_time": "2022-03-02T06:19:44.283554",
     "status": "completed"
    },
    "tags": []
   },
   "outputs": [],
   "source": [
    "from sklearn.model_selection import train_test_split\n",
    "from sklearn.linear_model import LinearRegression,Lasso,Ridge\n",
    "from sklearn.preprocessing import OneHotEncoder, StandardScaler\n",
    "from sklearn.compose import make_column_transformer\n",
    "from sklearn.pipeline import make_pipeline\n",
    "from sklearn.metrics import r2_score"
   ]
  },
  {
   "cell_type": "code",
   "execution_count": 47,
   "id": "d95092e5",
   "metadata": {
    "execution": {
     "iopub.execute_input": "2022-03-02T06:19:45.585173Z",
     "iopub.status.busy": "2022-03-02T06:19:45.584494Z",
     "iopub.status.idle": "2022-03-02T06:19:45.590861Z",
     "shell.execute_reply": "2022-03-02T06:19:45.590115Z",
     "shell.execute_reply.started": "2022-03-02T05:20:32.735580Z"
    },
    "papermill": {
     "duration": 0.106686,
     "end_time": "2022-03-02T06:19:45.591020",
     "exception": false,
     "start_time": "2022-03-02T06:19:45.484334",
     "status": "completed"
    },
    "tags": []
   },
   "outputs": [],
   "source": [
    "X_train, X_test,y_train,y_test = train_test_split(X,y,test_size=0.2, random_state=0)\n"
   ]
  },
  {
   "cell_type": "code",
   "execution_count": 48,
   "id": "20d5d7fc",
   "metadata": {
    "execution": {
     "iopub.execute_input": "2022-03-02T06:19:45.788899Z",
     "iopub.status.busy": "2022-03-02T06:19:45.788137Z",
     "iopub.status.idle": "2022-03-02T06:19:45.791870Z",
     "shell.execute_reply": "2022-03-02T06:19:45.791184Z",
     "shell.execute_reply.started": "2022-03-02T05:21:08.010208Z"
    },
    "papermill": {
     "duration": 0.104713,
     "end_time": "2022-03-02T06:19:45.792026",
     "exception": false,
     "start_time": "2022-03-02T06:19:45.687313",
     "status": "completed"
    },
    "tags": []
   },
   "outputs": [
    {
     "name": "stdout",
     "output_type": "stream",
     "text": [
      "(5888, 4)\n",
      "(1473, 4)\n"
     ]
    }
   ],
   "source": [
    "print(X_train.shape)\n",
    "print(X_test.shape)"
   ]
  },
  {
   "cell_type": "code",
   "execution_count": 49,
   "id": "6ea7cc09",
   "metadata": {
    "execution": {
     "iopub.execute_input": "2022-03-02T06:19:45.991807Z",
     "iopub.status.busy": "2022-03-02T06:19:45.989044Z",
     "iopub.status.idle": "2022-03-02T06:19:45.994866Z",
     "shell.execute_reply": "2022-03-02T06:19:45.994320Z",
     "shell.execute_reply.started": "2022-03-02T05:28:19.259732Z"
    },
    "papermill": {
     "duration": 0.105489,
     "end_time": "2022-03-02T06:19:45.995029",
     "exception": false,
     "start_time": "2022-03-02T06:19:45.889540",
     "status": "completed"
    },
    "tags": []
   },
   "outputs": [],
   "source": [
    "column_trans= make_column_transformer((OneHotEncoder(sparse=False),['location']),remainder='passthrough')\n",
    "                                                                               "
   ]
  },
  {
   "cell_type": "code",
   "execution_count": 50,
   "id": "ad38f004",
   "metadata": {
    "execution": {
     "iopub.execute_input": "2022-03-02T06:19:46.197035Z",
     "iopub.status.busy": "2022-03-02T06:19:46.196237Z",
     "iopub.status.idle": "2022-03-02T06:19:46.199103Z",
     "shell.execute_reply": "2022-03-02T06:19:46.198584Z",
     "shell.execute_reply.started": "2022-03-02T05:32:33.908922Z"
    },
    "papermill": {
     "duration": 0.104494,
     "end_time": "2022-03-02T06:19:46.199261",
     "exception": false,
     "start_time": "2022-03-02T06:19:46.094767",
     "status": "completed"
    },
    "tags": []
   },
   "outputs": [],
   "source": [
    "scaler= StandardScaler()"
   ]
  },
  {
   "cell_type": "code",
   "execution_count": 51,
   "id": "ac7a162b",
   "metadata": {
    "execution": {
     "iopub.execute_input": "2022-03-02T06:19:46.399735Z",
     "iopub.status.busy": "2022-03-02T06:19:46.399016Z",
     "iopub.status.idle": "2022-03-02T06:19:46.402561Z",
     "shell.execute_reply": "2022-03-02T06:19:46.403033Z",
     "shell.execute_reply.started": "2022-03-02T05:32:55.913416Z"
    },
    "papermill": {
     "duration": 0.106385,
     "end_time": "2022-03-02T06:19:46.403234",
     "exception": false,
     "start_time": "2022-03-02T06:19:46.296849",
     "status": "completed"
    },
    "tags": []
   },
   "outputs": [],
   "source": [
    "lr= LinearRegression(normalize=True)"
   ]
  },
  {
   "cell_type": "code",
   "execution_count": 52,
   "id": "f9df09db",
   "metadata": {
    "execution": {
     "iopub.execute_input": "2022-03-02T06:19:46.602501Z",
     "iopub.status.busy": "2022-03-02T06:19:46.601833Z",
     "iopub.status.idle": "2022-03-02T06:19:46.605548Z",
     "shell.execute_reply": "2022-03-02T06:19:46.606101Z",
     "shell.execute_reply.started": "2022-03-02T05:33:24.038895Z"
    },
    "papermill": {
     "duration": 0.105826,
     "end_time": "2022-03-02T06:19:46.606294",
     "exception": false,
     "start_time": "2022-03-02T06:19:46.500468",
     "status": "completed"
    },
    "tags": []
   },
   "outputs": [],
   "source": [
    "pipe= make_pipeline(column_trans,scaler,lr)"
   ]
  },
  {
   "cell_type": "code",
   "execution_count": 53,
   "id": "bc1de691",
   "metadata": {
    "execution": {
     "iopub.execute_input": "2022-03-02T06:19:46.806430Z",
     "iopub.status.busy": "2022-03-02T06:19:46.805763Z",
     "iopub.status.idle": "2022-03-02T06:19:47.028032Z",
     "shell.execute_reply": "2022-03-02T06:19:47.029010Z",
     "shell.execute_reply.started": "2022-03-02T05:34:01.213133Z"
    },
    "papermill": {
     "duration": 0.326075,
     "end_time": "2022-03-02T06:19:47.029317",
     "exception": false,
     "start_time": "2022-03-02T06:19:46.703242",
     "status": "completed"
    },
    "tags": []
   },
   "outputs": [
    {
     "data": {
      "text/plain": [
       "Pipeline(steps=[('columntransformer',\n",
       "                 ColumnTransformer(remainder='passthrough',\n",
       "                                   transformers=[('onehotencoder',\n",
       "                                                  OneHotEncoder(sparse=False),\n",
       "                                                  ['location'])])),\n",
       "                ('standardscaler', StandardScaler()),\n",
       "                ('linearregression', LinearRegression(normalize=True))])"
      ]
     },
     "execution_count": 53,
     "metadata": {},
     "output_type": "execute_result"
    }
   ],
   "source": [
    "pipe.fit(X_train,y_train)"
   ]
  },
  {
   "cell_type": "code",
   "execution_count": 54,
   "id": "029dd32a",
   "metadata": {
    "execution": {
     "iopub.execute_input": "2022-03-02T06:19:47.269875Z",
     "iopub.status.busy": "2022-03-02T06:19:47.268728Z",
     "iopub.status.idle": "2022-03-02T06:19:47.279885Z",
     "shell.execute_reply": "2022-03-02T06:19:47.280767Z",
     "shell.execute_reply.started": "2022-03-02T05:37:04.863858Z"
    },
    "papermill": {
     "duration": 0.117065,
     "end_time": "2022-03-02T06:19:47.281097",
     "exception": false,
     "start_time": "2022-03-02T06:19:47.164032",
     "status": "completed"
    },
    "tags": []
   },
   "outputs": [],
   "source": [
    "y_pred_lr=pipe.predict(X_test)"
   ]
  },
  {
   "cell_type": "code",
   "execution_count": 55,
   "id": "48dbf263",
   "metadata": {
    "execution": {
     "iopub.execute_input": "2022-03-02T06:19:47.532687Z",
     "iopub.status.busy": "2022-03-02T06:19:47.531609Z",
     "iopub.status.idle": "2022-03-02T06:19:47.537222Z",
     "shell.execute_reply": "2022-03-02T06:19:47.537889Z",
     "shell.execute_reply.started": "2022-03-02T05:37:11.033794Z"
    },
    "papermill": {
     "duration": 0.107565,
     "end_time": "2022-03-02T06:19:47.538099",
     "exception": false,
     "start_time": "2022-03-02T06:19:47.430534",
     "status": "completed"
    },
    "tags": []
   },
   "outputs": [
    {
     "data": {
      "text/plain": [
       "0.8233570223916001"
      ]
     },
     "execution_count": 55,
     "metadata": {},
     "output_type": "execute_result"
    }
   ],
   "source": [
    "r2_score(y_test, y_pred_lr)"
   ]
  },
  {
   "cell_type": "code",
   "execution_count": 56,
   "id": "4693f2e5",
   "metadata": {
    "execution": {
     "iopub.execute_input": "2022-03-02T06:19:47.738618Z",
     "iopub.status.busy": "2022-03-02T06:19:47.737344Z",
     "iopub.status.idle": "2022-03-02T06:19:47.741731Z",
     "shell.execute_reply": "2022-03-02T06:19:47.742268Z",
     "shell.execute_reply.started": "2022-03-02T05:37:44.078990Z"
    },
    "papermill": {
     "duration": 0.105771,
     "end_time": "2022-03-02T06:19:47.742480",
     "exception": false,
     "start_time": "2022-03-02T06:19:47.636709",
     "status": "completed"
    },
    "tags": []
   },
   "outputs": [],
   "source": [
    "lasso=Lasso()"
   ]
  },
  {
   "cell_type": "code",
   "execution_count": 57,
   "id": "e143df15",
   "metadata": {
    "execution": {
     "iopub.execute_input": "2022-03-02T06:19:47.946894Z",
     "iopub.status.busy": "2022-03-02T06:19:47.945769Z",
     "iopub.status.idle": "2022-03-02T06:19:47.947755Z",
     "shell.execute_reply": "2022-03-02T06:19:47.948245Z",
     "shell.execute_reply.started": "2022-03-02T05:38:16.468306Z"
    },
    "papermill": {
     "duration": 0.108395,
     "end_time": "2022-03-02T06:19:47.948474",
     "exception": false,
     "start_time": "2022-03-02T06:19:47.840079",
     "status": "completed"
    },
    "tags": []
   },
   "outputs": [],
   "source": [
    "pipe=make_pipeline(column_trans, scaler, lasso)"
   ]
  },
  {
   "cell_type": "code",
   "execution_count": 58,
   "id": "d36116cd",
   "metadata": {
    "execution": {
     "iopub.execute_input": "2022-03-02T06:19:48.149146Z",
     "iopub.status.busy": "2022-03-02T06:19:48.148120Z",
     "iopub.status.idle": "2022-03-02T06:19:48.278872Z",
     "shell.execute_reply": "2022-03-02T06:19:48.277107Z",
     "shell.execute_reply.started": "2022-03-02T05:38:47.827614Z"
    },
    "papermill": {
     "duration": 0.232068,
     "end_time": "2022-03-02T06:19:48.279158",
     "exception": false,
     "start_time": "2022-03-02T06:19:48.047090",
     "status": "completed"
    },
    "tags": []
   },
   "outputs": [
    {
     "data": {
      "text/plain": [
       "Pipeline(steps=[('columntransformer',\n",
       "                 ColumnTransformer(remainder='passthrough',\n",
       "                                   transformers=[('onehotencoder',\n",
       "                                                  OneHotEncoder(sparse=False),\n",
       "                                                  ['location'])])),\n",
       "                ('standardscaler', StandardScaler()), ('lasso', Lasso())])"
      ]
     },
     "execution_count": 58,
     "metadata": {},
     "output_type": "execute_result"
    }
   ],
   "source": [
    "pipe.fit(X_train, y_train)"
   ]
  },
  {
   "cell_type": "code",
   "execution_count": 59,
   "id": "7211f3a7",
   "metadata": {
    "execution": {
     "iopub.execute_input": "2022-03-02T06:19:48.522723Z",
     "iopub.status.busy": "2022-03-02T06:19:48.521997Z",
     "iopub.status.idle": "2022-03-02T06:19:48.543597Z",
     "shell.execute_reply": "2022-03-02T06:19:48.544728Z",
     "shell.execute_reply.started": "2022-03-02T05:39:41.818310Z"
    },
    "papermill": {
     "duration": 0.125649,
     "end_time": "2022-03-02T06:19:48.545044",
     "exception": false,
     "start_time": "2022-03-02T06:19:48.419395",
     "status": "completed"
    },
    "tags": []
   },
   "outputs": [
    {
     "data": {
      "text/plain": [
       "0.8128285650772719"
      ]
     },
     "execution_count": 59,
     "metadata": {},
     "output_type": "execute_result"
    }
   ],
   "source": [
    "y_pred_lasso=pipe.predict(X_test)\n",
    "r2_score(y_test, y_pred_lasso)"
   ]
  },
  {
   "cell_type": "code",
   "execution_count": 60,
   "id": "e515bad0",
   "metadata": {
    "execution": {
     "iopub.execute_input": "2022-03-02T06:19:48.795357Z",
     "iopub.status.busy": "2022-03-02T06:19:48.794623Z",
     "iopub.status.idle": "2022-03-02T06:19:48.796872Z",
     "shell.execute_reply": "2022-03-02T06:19:48.796231Z",
     "shell.execute_reply.started": "2022-03-02T05:39:56.623245Z"
    },
    "papermill": {
     "duration": 0.105055,
     "end_time": "2022-03-02T06:19:48.797022",
     "exception": false,
     "start_time": "2022-03-02T06:19:48.691967",
     "status": "completed"
    },
    "tags": []
   },
   "outputs": [],
   "source": [
    "ridge=Ridge()"
   ]
  },
  {
   "cell_type": "code",
   "execution_count": 61,
   "id": "064c3c05",
   "metadata": {
    "execution": {
     "iopub.execute_input": "2022-03-02T06:19:49.004409Z",
     "iopub.status.busy": "2022-03-02T06:19:49.003663Z",
     "iopub.status.idle": "2022-03-02T06:19:49.007338Z",
     "shell.execute_reply": "2022-03-02T06:19:49.007944Z",
     "shell.execute_reply.started": "2022-03-02T05:42:12.493685Z"
    },
    "papermill": {
     "duration": 0.110013,
     "end_time": "2022-03-02T06:19:49.008143",
     "exception": false,
     "start_time": "2022-03-02T06:19:48.898130",
     "status": "completed"
    },
    "tags": []
   },
   "outputs": [],
   "source": [
    "pipe= make_pipeline(column_trans,scaler,ridge)"
   ]
  },
  {
   "cell_type": "code",
   "execution_count": 62,
   "id": "b87cf2f1",
   "metadata": {
    "execution": {
     "iopub.execute_input": "2022-03-02T06:19:49.209879Z",
     "iopub.status.busy": "2022-03-02T06:19:49.209113Z",
     "iopub.status.idle": "2022-03-02T06:19:49.319212Z",
     "shell.execute_reply": "2022-03-02T06:19:49.320095Z",
     "shell.execute_reply.started": "2022-03-02T05:44:19.997485Z"
    },
    "papermill": {
     "duration": 0.212563,
     "end_time": "2022-03-02T06:19:49.320425",
     "exception": false,
     "start_time": "2022-03-02T06:19:49.107862",
     "status": "completed"
    },
    "tags": []
   },
   "outputs": [
    {
     "data": {
      "text/plain": [
       "Pipeline(steps=[('columntransformer',\n",
       "                 ColumnTransformer(remainder='passthrough',\n",
       "                                   transformers=[('onehotencoder',\n",
       "                                                  OneHotEncoder(sparse=False),\n",
       "                                                  ['location'])])),\n",
       "                ('standardscaler', StandardScaler()), ('ridge', Ridge())])"
      ]
     },
     "execution_count": 62,
     "metadata": {},
     "output_type": "execute_result"
    }
   ],
   "source": [
    "pipe.fit(X_train, y_train)"
   ]
  },
  {
   "cell_type": "code",
   "execution_count": 63,
   "id": "00ba3370",
   "metadata": {
    "execution": {
     "iopub.execute_input": "2022-03-02T06:19:49.595983Z",
     "iopub.status.busy": "2022-03-02T06:19:49.594866Z",
     "iopub.status.idle": "2022-03-02T06:19:49.613297Z",
     "shell.execute_reply": "2022-03-02T06:19:49.614333Z",
     "shell.execute_reply.started": "2022-03-02T05:44:23.037303Z"
    },
    "papermill": {
     "duration": 0.127117,
     "end_time": "2022-03-02T06:19:49.614660",
     "exception": false,
     "start_time": "2022-03-02T06:19:49.487543",
     "status": "completed"
    },
    "tags": []
   },
   "outputs": [
    {
     "data": {
      "text/plain": [
       "0.8234146633312647"
      ]
     },
     "execution_count": 63,
     "metadata": {},
     "output_type": "execute_result"
    }
   ],
   "source": [
    "y_pred_ridge=pipe.predict(X_test)\n",
    "r2_score(y_test, y_pred_ridge)"
   ]
  },
  {
   "cell_type": "code",
   "execution_count": 64,
   "id": "0efbde7e",
   "metadata": {
    "execution": {
     "iopub.execute_input": "2022-03-02T06:19:49.870115Z",
     "iopub.status.busy": "2022-03-02T06:19:49.867709Z",
     "iopub.status.idle": "2022-03-02T06:19:49.875700Z",
     "shell.execute_reply": "2022-03-02T06:19:49.876296Z",
     "shell.execute_reply.started": "2022-03-02T05:47:38.319805Z"
    },
    "papermill": {
     "duration": 0.112308,
     "end_time": "2022-03-02T06:19:49.876497",
     "exception": false,
     "start_time": "2022-03-02T06:19:49.764189",
     "status": "completed"
    },
    "tags": []
   },
   "outputs": [
    {
     "name": "stdout",
     "output_type": "stream",
     "text": [
      "No Regularization:  0.8233570223916001\n",
      "Lasso:  0.8128285650772719\n",
      "Ridge:  0.8234146633312647\n"
     ]
    }
   ],
   "source": [
    "print(\"No Regularization: \", r2_score(y_test, y_pred_lr))\n",
    "print(\"Lasso: \", r2_score(y_test, y_pred_lasso))\n",
    "print(\"Ridge: \", r2_score(y_test, y_pred_ridge))"
   ]
  },
  {
   "cell_type": "markdown",
   "id": "f364f31c",
   "metadata": {
    "papermill": {
     "duration": 0.100286,
     "end_time": "2022-03-02T06:19:50.076053",
     "exception": false,
     "start_time": "2022-03-02T06:19:49.975767",
     "status": "completed"
    },
    "tags": []
   },
   "source": [
    "**THANK YOU SO MUCH FOR READING THIS NOTEBOOK THIS IS MOSTLY FOUCSED FOR THE DATA CLEANING FOR THE ACCURACY WE WILL USE EMSEMBLES TECHNIQUE TO GET THE GREATER OUTPUT**"
   ]
  },
  {
   "cell_type": "markdown",
   "id": "0a1d911e",
   "metadata": {
    "papermill": {
     "duration": 0.098505,
     "end_time": "2022-03-02T06:19:50.273090",
     "exception": false,
     "start_time": "2022-03-02T06:19:50.174585",
     "status": "completed"
    },
    "tags": []
   },
   "source": [
    "**Have a Great Day**"
   ]
  },
  {
   "cell_type": "code",
   "execution_count": null,
   "id": "8bd58fc1",
   "metadata": {
    "papermill": {
     "duration": 0.098763,
     "end_time": "2022-03-02T06:19:50.470649",
     "exception": false,
     "start_time": "2022-03-02T06:19:50.371886",
     "status": "completed"
    },
    "tags": []
   },
   "outputs": [],
   "source": []
  },
  {
   "cell_type": "code",
   "execution_count": null,
   "id": "1f8dbb97",
   "metadata": {
    "papermill": {
     "duration": 0.09784,
     "end_time": "2022-03-02T06:19:50.666438",
     "exception": false,
     "start_time": "2022-03-02T06:19:50.568598",
     "status": "completed"
    },
    "tags": []
   },
   "outputs": [],
   "source": []
  },
  {
   "cell_type": "code",
   "execution_count": null,
   "id": "eebfa907",
   "metadata": {
    "papermill": {
     "duration": 0.09767,
     "end_time": "2022-03-02T06:19:50.862303",
     "exception": false,
     "start_time": "2022-03-02T06:19:50.764633",
     "status": "completed"
    },
    "tags": []
   },
   "outputs": [],
   "source": []
  },
  {
   "cell_type": "code",
   "execution_count": null,
   "id": "303236f3",
   "metadata": {
    "papermill": {
     "duration": 0.098686,
     "end_time": "2022-03-02T06:19:51.062521",
     "exception": false,
     "start_time": "2022-03-02T06:19:50.963835",
     "status": "completed"
    },
    "tags": []
   },
   "outputs": [],
   "source": []
  },
  {
   "cell_type": "code",
   "execution_count": null,
   "id": "ac007851",
   "metadata": {
    "papermill": {
     "duration": 0.09783,
     "end_time": "2022-03-02T06:19:51.258962",
     "exception": false,
     "start_time": "2022-03-02T06:19:51.161132",
     "status": "completed"
    },
    "tags": []
   },
   "outputs": [],
   "source": []
  },
  {
   "cell_type": "code",
   "execution_count": null,
   "id": "07ccba53",
   "metadata": {
    "papermill": {
     "duration": 0.098931,
     "end_time": "2022-03-02T06:19:51.456115",
     "exception": false,
     "start_time": "2022-03-02T06:19:51.357184",
     "status": "completed"
    },
    "tags": []
   },
   "outputs": [],
   "source": []
  },
  {
   "cell_type": "code",
   "execution_count": null,
   "id": "2607d7fb",
   "metadata": {
    "papermill": {
     "duration": 0.099272,
     "end_time": "2022-03-02T06:19:51.653852",
     "exception": false,
     "start_time": "2022-03-02T06:19:51.554580",
     "status": "completed"
    },
    "tags": []
   },
   "outputs": [],
   "source": []
  },
  {
   "cell_type": "code",
   "execution_count": null,
   "id": "e435059d",
   "metadata": {
    "papermill": {
     "duration": 0.099011,
     "end_time": "2022-03-02T06:19:51.853027",
     "exception": false,
     "start_time": "2022-03-02T06:19:51.754016",
     "status": "completed"
    },
    "tags": []
   },
   "outputs": [],
   "source": []
  },
  {
   "cell_type": "code",
   "execution_count": null,
   "id": "0cb99d4a",
   "metadata": {
    "papermill": {
     "duration": 0.115767,
     "end_time": "2022-03-02T06:19:52.071686",
     "exception": false,
     "start_time": "2022-03-02T06:19:51.955919",
     "status": "completed"
    },
    "tags": []
   },
   "outputs": [],
   "source": []
  }
 ],
 "metadata": {
  "kernelspec": {
   "display_name": "Python 3",
   "language": "python",
   "name": "python3"
  },
  "language_info": {
   "codemirror_mode": {
    "name": "ipython",
    "version": 3
   },
   "file_extension": ".py",
   "mimetype": "text/x-python",
   "name": "python",
   "nbconvert_exporter": "python",
   "pygments_lexer": "ipython3",
   "version": "3.7.12"
  },
  "papermill": {
   "default_parameters": {},
   "duration": 32.643672,
   "end_time": "2022-03-02T06:19:53.183399",
   "environment_variables": {},
   "exception": null,
   "input_path": "__notebook__.ipynb",
   "output_path": "__notebook__.ipynb",
   "parameters": {},
   "start_time": "2022-03-02T06:19:20.539727",
   "version": "2.3.3"
  }
 },
 "nbformat": 4,
 "nbformat_minor": 5
}
